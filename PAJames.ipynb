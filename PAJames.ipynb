{
 "cells": [
  {
   "cell_type": "markdown",
   "id": "b84b3dab",
   "metadata": {
    "ExecuteTime": {
     "end_time": "2022-10-03T21:54:46.803013Z",
     "start_time": "2022-10-03T21:54:46.798212Z"
    },
    "heading_collapsed": true
   },
   "source": [
    "# *Introdução ao AB Testing* - PA James"
   ]
  },
  {
   "cell_type": "markdown",
   "id": "1fd4b3db",
   "metadata": {
    "heading_collapsed": true,
    "hidden": true
   },
   "source": [
    "## Passo 1: Escolha do método\n",
    "\n",
    " - 01 - Teste de hipótese estatística: método de inferência estatística usado para decidir se os dados são suficientes para suportar uma hipótese particular.\n",
    " \n",
    " - 02 - AB_Testing: metodologia de pesquisa da experiência do usuário que aplica as hipotéses estatísticas para comparar duas ou mais versões de uma única variável, a fim de determinar qual das duas variantes é mais efetiva.\n",
    " \n",
    " "
   ]
  },
  {
   "cell_type": "markdown",
   "id": "e50d976c",
   "metadata": {
    "hidden": true
   },
   "source": [
    "## Passo 2: Design do Experimento\n",
    "\n",
    "     1.2.1 Formulação das hipóteses\n",
    "     \n",
    "        - Definição da hipótese nula;\n",
    "        - Definição da hipótese alternativa;\n",
    "        - Escolha do tipo de teste: uma ou duas caudas;\n",
    "        - Definição do nível de confiança do experimento;\n",
    "        \n",
    "     1.2.2 Escolha da variável\n",
    "     \n",
    "        - Definição da métrica de avaliação ou variável dependente;\n",
    "      \n",
    "     1.2.3 Separação dos grupos\n",
    "     \n",
    "        - Separação do grupo de controle;\n",
    "        - separação do grupo de tratamento;\n",
    "        - Definição do tamanho da amostra de cada grupo;"
   ]
  },
  {
   "cell_type": "markdown",
   "id": "ab047a8b",
   "metadata": {
    "hidden": true
   },
   "source": [
    "## Passo 3: Coletando e preparando os dados\n",
    "\n",
    "    1.3.1 Coleta dos dados\n",
    "    \n",
    "        - Definição da estrutura da coleta e armazenamento dos dados;\n",
    "        - Criação da flag do teste AB\n",
    "        - Escolha das ferramentas do teste AB\n",
    "        \n",
    "    1.3.2 Preparação dos dados\n",
    "    \n",
    "       - Definição;\n",
    "       - Limpeza e verificação dos dados;\n",
    "       \n",
    "    1.3.3 Conversão dos grupos\n",
    "    \n",
    "       - Cálculo da conversão do grupo controle;\n",
    "       - Cálculo da conversão do grupo de tratamento;"
   ]
  },
  {
   "cell_type": "markdown",
   "id": "27239ff2",
   "metadata": {
    "heading_collapsed": true,
    "hidden": true
   },
   "source": [
    "## Passo 4: Testando as hipóteses\n",
    "\n",
    "    1.4.1 Definição do método de inferência estatística;\n",
    "    \n",
    "       - t-Teste\n",
    "       - ANOVA\n",
    "       - Chi-Squared\n",
    "       \n",
    "    1.4.2 Cálculo do p-valor\n",
    "    \n",
    "    "
   ]
  },
  {
   "cell_type": "markdown",
   "id": "6b3bfe11",
   "metadata": {
    "hidden": true
   },
   "source": [
    "## Passo 5: Tirando as conclusões\n",
    "\n",
    "    - Interpretação do p-valor;\n",
    "    - Validação das hipóteses iniciais;\n",
    "    - Conclusão: \n",
    "            1 - A página A é melhor que a página B\n",
    "            2 - A diferença de conversão: pelos dados disponíveis, não tenho como dizer se é efeito da página;\n",
    "    - Cálculo do número de vendas potencial;\n",
    "    - Cálculo do faturamento potencial;"
   ]
  },
  {
   "cell_type": "markdown",
   "id": "198813e3",
   "metadata": {
    "heading_collapsed": true
   },
   "source": [
    "# Formulando as Hipóteses"
   ]
  },
  {
   "cell_type": "markdown",
   "id": "c4b4ebf2",
   "metadata": {
    "ExecuteTime": {
     "end_time": "2022-10-03T23:36:01.756738Z",
     "start_time": "2022-10-03T23:36:01.751503Z"
    },
    "heading_collapsed": true,
    "hidden": true
   },
   "source": [
    "### Certifique-se de formular as hipóteses no início do projeto;"
   ]
  },
  {
   "cell_type": "markdown",
   "id": "18a37821",
   "metadata": {
    "heading_collapsed": true,
    "hidden": true
   },
   "source": [
    "###  Daddo que nós não sabemos se o nosso design irá perfomar melhor ou pior (ou igual?) do que o design atual, nós escolhemos o teste BICAUDAL\n",
    "\n",
    "    - H0: p  =  p0 onde p e p0 são a conversão do novo e do antigo design, respectivamente\n",
    "    - Ha: p != p0 "
   ]
  },
  {
   "cell_type": "markdown",
   "id": "656b79dd",
   "metadata": {
    "heading_collapsed": true,
    "hidden": true
   },
   "source": [
    "### Nós também estabelecemos o nível de confiança de 95% alpha = 0,05\n",
    "\n",
    "     - o valor de alpha é uma linha de corte que nós estabelecemos, pela qual nós dizemos: 'se a possibilidade de observar um resultado extremo ou mais (p-valor) for menor que alpha, então rejeitamos a hipótese nula alpha = 0,05 (5% de probabilidade)\n",
    "     \n",
    "     - Nós queremos estar 95% confiantes de que é estatísticamente diferente do nosso design antigo, antes de rejeitar a hipótese nula;"
   ]
  },
  {
   "cell_type": "markdown",
   "id": "9dc3a4c1",
   "metadata": {
    "heading_collapsed": true
   },
   "source": [
    "# Escolhendo as variáveis"
   ]
  },
  {
   "cell_type": "markdown",
   "id": "fcb64bf1",
   "metadata": {
    "hidden": true
   },
   "source": [
    " - Para o nosso teste, nós precisamos de 2 grupos:  \n",
    " \n",
    "      **um grupo controle:** eles verão o design antigo;\n",
    "      \n",
    "      **um grupo de tratamento:** eles verão o design novo;\n",
    "      \n",
    "      \n",
    " - Está será a nossa variável independente X"
   ]
  },
  {
   "cell_type": "markdown",
   "id": "2d96bdd1",
   "metadata": {
    "hidden": true
   },
   "source": [
    "- Para nossa variável dependente Y, nós estamos interessados em capturar a taxa de conversão.\n",
    "- Um caminho que podemos usar é tratar cada seção de usuário como uma variável binária:\n",
    "\n",
    "    0: o usuário não comprou o produto durante a seção;\n",
    "    \n",
    "    1: o usuário comprou o produto durante a seção;"
   ]
  },
  {
   "cell_type": "markdown",
   "id": "0bdb0594",
   "metadata": {
    "heading_collapsed": true
   },
   "source": [
    "# Escolhendo o tamanho da amostra"
   ]
  },
  {
   "cell_type": "markdown",
   "id": "693a47fe",
   "metadata": {
    "hidden": true
   },
   "source": [
    "- É interessante notar que, como nós não testamos toda a nossa base de usuários (nossa população), a taxa de conversão que nós temos será inevitavelmente apenas uma estimativa da taxa verdadeira.\n",
    "\n",
    "- O número de pessoas que nós decidirmos capturar em cada grupo terá um efeito na precisão da nossa estimativa de taxa de conversão: quanto maior o tamanho da amostra, mais precisa será nossa estimativa (i.e. menor o nosso intervalo de confiança) e maior a chance de detectar uma diferença entre os dois grupos, se houver. Por outro lado, quanto maior a nossa amostra, mais caro (e impraticável) nosso estudo se torna.\n",
    "\n",
    "- Então, quantas pessoas deveríamos ter em cada grupo? O tamanho da amostra que precisamos é estimado através de algo chamado POWER ANALYSIS, e isso depende alguns fatores:\n",
    "\n",
    "    - **POWER OF TEST:** (1 - Beta) Representa a probabilidade de encontrar uma diferença estatística entre os grupos em nosso teste quando a diferença está de fato presente. Ele é usualmente setado em 0.8 por conversão; Setar este parâmetro em 0.8, na prática, significa que se existe uma diferença real na taxa de conversão entre nossos designs, supondo que a diferença seja a que estimamos (13% e 15%), temos cerca de 80% de chance de detectá-la como estatísticamente significativa em nosso teste com o tamanho de amostra que vamos calcular.\n",
    "    \n",
    "    - **ALPHA VALUE:** (alpha) Valor crítico que setamos anteriormente em 0.05. Nível de significância - significa que temos 5% de chance de tomar uma decisão errada (eu tenho evidências sufucuentes para observar o efeito sendo que o efeito não está no intervalo).\n",
    "    \n",
    "    - **EFFECT SIZE:** Quanta diferença esperamos que haja entre as taxas de conversão. Como nosso time ficaria feliz com uma diferença de 2%, nós podemos usar 13 e 15% para calcular o tamanho do efeito que nós esperamos; "
   ]
  },
  {
   "cell_type": "markdown",
   "id": "480cee65",
   "metadata": {},
   "source": [
    "# Escrevendo o código do tamanho da amostra"
   ]
  },
  {
   "cell_type": "code",
   "execution_count": 1,
   "id": "2cae5d51",
   "metadata": {
    "ExecuteTime": {
     "end_time": "2022-10-22T12:13:08.879832Z",
     "start_time": "2022-10-22T12:13:07.873349Z"
    }
   },
   "outputs": [],
   "source": [
    "# Libraries\n",
    "\n",
    "import numpy as np\n",
    "import pandas as pd\n",
    "import statsmodels.stats.api as sms\n",
    "import statsmodels.stats as stats\n",
    "import matplotlib as mpl\n",
    "import matplotlib.pyplot as plt\n",
    "import seaborn as sns\n",
    "from scipy import stats\n",
    "from math import ceil\n",
    "from scipy.stats import shapiro\n",
    "from scipy.stats import f_oneway\n",
    "from scipy.stats import chi2_contingency\n",
    "from statsmodels.stats.multicomp import pairwise_tukeyhsd\n",
    "from statsmodels.stats.proportion import proportions_ztest, proportion_confint\n"
   ]
  },
  {
   "cell_type": "code",
   "execution_count": 2,
   "id": "85f26403",
   "metadata": {
    "ExecuteTime": {
     "end_time": "2022-10-22T12:13:13.456826Z",
     "start_time": "2022-10-22T12:13:13.185913Z"
    }
   },
   "outputs": [],
   "source": [
    "%matplotlib inline\n",
    "\n",
    "# Some plt styles preferences\n",
    "#plt.style.use( '_mpl-gallery' )\n",
    "#font = { 'family': 'sans-serif', 'weight': 'bold', 'size': 14 }\n",
    "\n",
    "#mpl.rc( 'font', **font)\n",
    "\n",
    "effect_size = sms.proportion_effectsize(0.13, 0.15)  #calculando o effect size baseado em nossas taxas esperadas"
   ]
  },
  {
   "cell_type": "code",
   "execution_count": 3,
   "id": "b6d3d089",
   "metadata": {
    "ExecuteTime": {
     "end_time": "2022-10-22T12:13:14.404064Z",
     "start_time": "2022-10-22T12:13:14.365741Z"
    }
   },
   "outputs": [],
   "source": [
    "required_n = sms.NormalIndPower().solve_power(\n",
    "              effect_size,\n",
    "              power = 0.8,\n",
    "              alpha = 0.05,\n",
    "              ratio = 1) #calculando o tamanho da amostra requerida\n",
    "\n",
    "required_n = ceil(required_n) #arredondando para o próximo número inteiro"
   ]
  },
  {
   "cell_type": "code",
   "execution_count": 4,
   "id": "3a793263",
   "metadata": {
    "ExecuteTime": {
     "end_time": "2022-10-22T12:13:15.422892Z",
     "start_time": "2022-10-22T12:13:15.418923Z"
    }
   },
   "outputs": [
    {
     "name": "stdout",
     "output_type": "stream",
     "text": [
      "o número de amostras para o grupo controle é: 4720\n",
      "o número de amostras para o grupo de tratamento é: 4720\n"
     ]
    }
   ],
   "source": [
    "print(f'o número de amostras para o grupo controle é: {required_n}')\n",
    "print(f'o número de amostras para o grupo de tratamento é: {required_n}')"
   ]
  },
  {
   "cell_type": "code",
   "execution_count": 5,
   "id": "fed6edc7",
   "metadata": {
    "ExecuteTime": {
     "end_time": "2022-10-22T12:13:17.254086Z",
     "start_time": "2022-10-22T12:13:17.239015Z"
    }
   },
   "outputs": [],
   "source": [
    "# Repare que é preciso observar a taxa de conversão de abertura de email, ou seja, se apenas 10% dos clientes abre o email, será preciso enviar 47200 emails para cada grupo."
   ]
  },
  {
   "cell_type": "markdown",
   "id": "385d0b40",
   "metadata": {},
   "source": [
    "# Coletando e preparando os dados "
   ]
  },
  {
   "cell_type": "markdown",
   "id": "1ef3385f",
   "metadata": {},
   "source": [
    "- Agora que temos nosso tamanho de amostra necessário, nós temos que coletar os dados. Normalmente neste ponto, você trabalhará com seu time para configurar o experimento e provavelmente com a ajuda do time de engenharia e se certificaria de coletar dados suficientes com base no tamanho da amostra necessária.\n",
    "\n",
    "- Aqui, vamos simular a situação:\n",
    "    - Baixar o dataset do Kaggle\n",
    "    - Ler os dados como um pandas dataframe\n",
    "    - Checar e limpar os dados, se necessário\n",
    "    - Aleatoriamente amostrar 4720 linhas do dataframe para cada grupo\n",
    "    \n",
    "- **NOTA**: Normalmente nós não necessitaríamos do passo 4, isto é apenas por causa do exercício. "
   ]
  },
  {
   "cell_type": "markdown",
   "id": "961eac02",
   "metadata": {},
   "source": [
    "## Ler os dados em um pandas dataframe"
   ]
  },
  {
   "cell_type": "code",
   "execution_count": 6,
   "id": "89132aee",
   "metadata": {
    "ExecuteTime": {
     "end_time": "2022-10-22T12:13:21.830673Z",
     "start_time": "2022-10-22T12:13:21.225737Z"
    }
   },
   "outputs": [
    {
     "data": {
      "text/html": [
       "<div>\n",
       "<style scoped>\n",
       "    .dataframe tbody tr th:only-of-type {\n",
       "        vertical-align: middle;\n",
       "    }\n",
       "\n",
       "    .dataframe tbody tr th {\n",
       "        vertical-align: top;\n",
       "    }\n",
       "\n",
       "    .dataframe thead th {\n",
       "        text-align: right;\n",
       "    }\n",
       "</style>\n",
       "<table border=\"1\" class=\"dataframe\">\n",
       "  <thead>\n",
       "    <tr style=\"text-align: right;\">\n",
       "      <th></th>\n",
       "      <th>user_id</th>\n",
       "      <th>timestamp</th>\n",
       "      <th>group</th>\n",
       "      <th>landing_page</th>\n",
       "      <th>converted</th>\n",
       "    </tr>\n",
       "  </thead>\n",
       "  <tbody>\n",
       "    <tr>\n",
       "      <th>0</th>\n",
       "      <td>851104</td>\n",
       "      <td>2017-01-21 22:11:48.556739</td>\n",
       "      <td>control</td>\n",
       "      <td>old_page</td>\n",
       "      <td>0</td>\n",
       "    </tr>\n",
       "    <tr>\n",
       "      <th>1</th>\n",
       "      <td>804228</td>\n",
       "      <td>2017-01-12 08:01:45.159739</td>\n",
       "      <td>control</td>\n",
       "      <td>old_page</td>\n",
       "      <td>0</td>\n",
       "    </tr>\n",
       "    <tr>\n",
       "      <th>2</th>\n",
       "      <td>661590</td>\n",
       "      <td>2017-01-11 16:55:06.154213</td>\n",
       "      <td>treatment</td>\n",
       "      <td>new_page</td>\n",
       "      <td>0</td>\n",
       "    </tr>\n",
       "    <tr>\n",
       "      <th>3</th>\n",
       "      <td>853541</td>\n",
       "      <td>2017-01-08 18:28:03.143765</td>\n",
       "      <td>treatment</td>\n",
       "      <td>new_page</td>\n",
       "      <td>0</td>\n",
       "    </tr>\n",
       "    <tr>\n",
       "      <th>4</th>\n",
       "      <td>864975</td>\n",
       "      <td>2017-01-21 01:52:26.210827</td>\n",
       "      <td>control</td>\n",
       "      <td>old_page</td>\n",
       "      <td>1</td>\n",
       "    </tr>\n",
       "  </tbody>\n",
       "</table>\n",
       "</div>"
      ],
      "text/plain": [
       "   user_id                   timestamp      group landing_page  converted\n",
       "0   851104  2017-01-21 22:11:48.556739    control     old_page          0\n",
       "1   804228  2017-01-12 08:01:45.159739    control     old_page          0\n",
       "2   661590  2017-01-11 16:55:06.154213  treatment     new_page          0\n",
       "3   853541  2017-01-08 18:28:03.143765  treatment     new_page          0\n",
       "4   864975  2017-01-21 01:52:26.210827    control     old_page          1"
      ]
     },
     "execution_count": 6,
     "metadata": {},
     "output_type": "execute_result"
    }
   ],
   "source": [
    "df = pd.read_csv('ab_data.csv')\n",
    "df.head()"
   ]
  },
  {
   "cell_type": "code",
   "execution_count": 7,
   "id": "3d5b02a6",
   "metadata": {
    "ExecuteTime": {
     "end_time": "2022-10-22T12:13:23.187026Z",
     "start_time": "2022-10-22T12:13:22.940278Z"
    }
   },
   "outputs": [
    {
     "name": "stdout",
     "output_type": "stream",
     "text": [
      "<class 'pandas.core.frame.DataFrame'>\n",
      "RangeIndex: 294478 entries, 0 to 294477\n",
      "Data columns (total 5 columns):\n",
      " #   Column        Non-Null Count   Dtype \n",
      "---  ------        --------------   ----- \n",
      " 0   user_id       294478 non-null  int64 \n",
      " 1   timestamp     294478 non-null  object\n",
      " 2   group         294478 non-null  object\n",
      " 3   landing_page  294478 non-null  object\n",
      " 4   converted     294478 non-null  int64 \n",
      "dtypes: int64(2), object(3)\n",
      "memory usage: 11.2+ MB\n"
     ]
    }
   ],
   "source": [
    "# verificando a quantidade de linhas e colunas do dataframe\n",
    "df.info()   # são 294478 entradas e 5 colunas. Não há dados nulos!"
   ]
  },
  {
   "cell_type": "code",
   "execution_count": 8,
   "id": "0bb0f945",
   "metadata": {
    "ExecuteTime": {
     "end_time": "2022-10-22T12:13:24.256492Z",
     "start_time": "2022-10-22T12:13:24.045488Z"
    }
   },
   "outputs": [
    {
     "data": {
      "text/html": [
       "<div>\n",
       "<style scoped>\n",
       "    .dataframe tbody tr th:only-of-type {\n",
       "        vertical-align: middle;\n",
       "    }\n",
       "\n",
       "    .dataframe tbody tr th {\n",
       "        vertical-align: top;\n",
       "    }\n",
       "\n",
       "    .dataframe thead th {\n",
       "        text-align: right;\n",
       "    }\n",
       "</style>\n",
       "<table border=\"1\" class=\"dataframe\">\n",
       "  <thead>\n",
       "    <tr style=\"text-align: right;\">\n",
       "      <th>landing_page</th>\n",
       "      <th>new_page</th>\n",
       "      <th>old_page</th>\n",
       "    </tr>\n",
       "    <tr>\n",
       "      <th>group</th>\n",
       "      <th></th>\n",
       "      <th></th>\n",
       "    </tr>\n",
       "  </thead>\n",
       "  <tbody>\n",
       "    <tr>\n",
       "      <th>control</th>\n",
       "      <td>1928</td>\n",
       "      <td>145274</td>\n",
       "    </tr>\n",
       "    <tr>\n",
       "      <th>treatment</th>\n",
       "      <td>145311</td>\n",
       "      <td>1965</td>\n",
       "    </tr>\n",
       "  </tbody>\n",
       "</table>\n",
       "</div>"
      ],
      "text/plain": [
       "landing_page  new_page  old_page\n",
       "group                           \n",
       "control           1928    145274\n",
       "treatment       145311      1965"
      ]
     },
     "execution_count": 8,
     "metadata": {},
     "output_type": "execute_result"
    }
   ],
   "source": [
    "# precisamos ter certeza de que o grupo controle está vendo a página 1 e que o grupo de tratamento está vendo a página 2. Também precisamos checar se esses grupos estão vendo apenas a página correta designada a eles:\n",
    "\n",
    "pd.crosstab( df['group'], df['landing_page']) #crosstab computa uma simples tabulação cruzada entre 2 ou mais                                                 fatores"
   ]
  },
  {
   "cell_type": "code",
   "execution_count": 9,
   "id": "81755bcc",
   "metadata": {
    "ExecuteTime": {
     "end_time": "2022-10-22T12:13:25.331368Z",
     "start_time": "2022-10-22T12:13:25.300644Z"
    }
   },
   "outputs": [
    {
     "name": "stdout",
     "output_type": "stream",
     "text": [
      "A quantidade de usuários repetidos é 3894\n"
     ]
    }
   ],
   "source": [
    "# pela análise acima podemos ver que existem 1928 pessoas do grupo controle que estão vendo a nova página (página 2) e que 1965 pessoas do grupo de tratamento que estão vendo a página antiga (página 1) - Total: 3893 usuários vendo páginas erradas (repetidos)\n",
    "\n",
    "# Para checar a informação acima, vamos contar o número de usuários que aparecem mais de uma vez no dataset:\n",
    "\n",
    "session_count = df['user_id'].value_counts(ascending=False) #contando o número de usuários\n",
    "multi_users = session_count[session_count > 1].count()\n",
    "print(f'A quantidade de usuários repetidos é {multi_users}')"
   ]
  },
  {
   "cell_type": "code",
   "execution_count": 10,
   "id": "b378b886",
   "metadata": {
    "ExecuteTime": {
     "end_time": "2022-10-22T12:13:26.293905Z",
     "start_time": "2022-10-22T12:13:26.158996Z"
    }
   },
   "outputs": [
    {
     "name": "stdout",
     "output_type": "stream",
     "text": [
      "O dataset atualizado agora tem 286690 entradas\n"
     ]
    }
   ],
   "source": [
    "# Como esse número é baixo em relação ao tamanho do dataset, vamos removê-los do dataframe para evitar amostras os mesmo usuários 2 vezes.\n",
    "\n",
    "user_to_drop = session_count[session_count > 1].index   #pegando apenas o índice dos repetidos\n",
    "df = df[~df['user_id'].isin(user_to_drop)]  #no df final vai ficar todo mundo exceto (~) os repetidos\n",
    "print(f'O dataset atualizado agora tem {df.shape[0]} entradas')\n"
   ]
  },
  {
   "cell_type": "markdown",
   "id": "65b800eb",
   "metadata": {},
   "source": [
    "## Amostrando"
   ]
  },
  {
   "cell_type": "markdown",
   "id": "321f21b1",
   "metadata": {},
   "source": [
    "- Agora que o dataframe está ok e limpo, nós podemos prosseguir e amostrar 4720 amostras para cada grupo. Nós podemos usar o método pandas DataFrame.sample() para fazer isso, o qual irá realizar um Sample Random Sampling pra nós"
   ]
  },
  {
   "cell_type": "code",
   "execution_count": 12,
   "id": "73b6cfa2",
   "metadata": {
    "ExecuteTime": {
     "end_time": "2022-10-22T12:14:48.616168Z",
     "start_time": "2022-10-22T12:14:48.511986Z"
    }
   },
   "outputs": [],
   "source": [
    "# Amostrando \n",
    "control_sample = df[df['group'] == 'control'].sample( n=required_n, random_state = 22)\n",
    "treatment_sample = df[df['group'] == 'treatment'].sample( n=required_n, random_state = 22)"
   ]
  },
  {
   "cell_type": "code",
   "execution_count": 13,
   "id": "be152fc7",
   "metadata": {
    "ExecuteTime": {
     "end_time": "2022-10-22T12:14:49.999426Z",
     "start_time": "2022-10-22T12:14:49.987414Z"
    }
   },
   "outputs": [],
   "source": [
    "#Montando um dataframe apenas com o control_sample e o treatment_sample\n",
    "\n",
    "ab_test = pd.concat([control_sample, treatment_sample], axis=0)\n",
    "ab_test.reset_index(drop=True, inplace=True)"
   ]
  },
  {
   "cell_type": "code",
   "execution_count": 14,
   "id": "17f63b8f",
   "metadata": {
    "ExecuteTime": {
     "end_time": "2022-10-22T12:14:51.260356Z",
     "start_time": "2022-10-22T12:14:51.157366Z"
    }
   },
   "outputs": [
    {
     "name": "stdout",
     "output_type": "stream",
     "text": [
      "<class 'pandas.core.frame.DataFrame'>\n",
      "RangeIndex: 200000 entries, 0 to 199999\n",
      "Data columns (total 5 columns):\n",
      " #   Column        Non-Null Count   Dtype \n",
      "---  ------        --------------   ----- \n",
      " 0   user_id       200000 non-null  int64 \n",
      " 1   timestamp     200000 non-null  object\n",
      " 2   group         200000 non-null  object\n",
      " 3   landing_page  200000 non-null  object\n",
      " 4   converted     200000 non-null  int64 \n",
      "dtypes: int64(2), object(3)\n",
      "memory usage: 7.6+ MB\n"
     ]
    }
   ],
   "source": [
    "ab_test.info()"
   ]
  },
  {
   "cell_type": "code",
   "execution_count": 15,
   "id": "be725f44",
   "metadata": {
    "ExecuteTime": {
     "end_time": "2022-10-22T12:14:56.521725Z",
     "start_time": "2022-10-22T12:14:56.501675Z"
    }
   },
   "outputs": [
    {
     "data": {
      "text/html": [
       "<div>\n",
       "<style scoped>\n",
       "    .dataframe tbody tr th:only-of-type {\n",
       "        vertical-align: middle;\n",
       "    }\n",
       "\n",
       "    .dataframe tbody tr th {\n",
       "        vertical-align: top;\n",
       "    }\n",
       "\n",
       "    .dataframe thead th {\n",
       "        text-align: right;\n",
       "    }\n",
       "</style>\n",
       "<table border=\"1\" class=\"dataframe\">\n",
       "  <thead>\n",
       "    <tr style=\"text-align: right;\">\n",
       "      <th></th>\n",
       "      <th>user_id</th>\n",
       "      <th>timestamp</th>\n",
       "      <th>group</th>\n",
       "      <th>landing_page</th>\n",
       "      <th>converted</th>\n",
       "    </tr>\n",
       "  </thead>\n",
       "  <tbody>\n",
       "    <tr>\n",
       "      <th>0</th>\n",
       "      <td>763854</td>\n",
       "      <td>2017-01-21 03:43:17.188315</td>\n",
       "      <td>control</td>\n",
       "      <td>old_page</td>\n",
       "      <td>0</td>\n",
       "    </tr>\n",
       "    <tr>\n",
       "      <th>1</th>\n",
       "      <td>690555</td>\n",
       "      <td>2017-01-18 06:38:13.079449</td>\n",
       "      <td>control</td>\n",
       "      <td>old_page</td>\n",
       "      <td>0</td>\n",
       "    </tr>\n",
       "    <tr>\n",
       "      <th>2</th>\n",
       "      <td>861520</td>\n",
       "      <td>2017-01-06 21:13:40.044766</td>\n",
       "      <td>control</td>\n",
       "      <td>old_page</td>\n",
       "      <td>0</td>\n",
       "    </tr>\n",
       "    <tr>\n",
       "      <th>3</th>\n",
       "      <td>630778</td>\n",
       "      <td>2017-01-05 16:42:36.995204</td>\n",
       "      <td>control</td>\n",
       "      <td>old_page</td>\n",
       "      <td>0</td>\n",
       "    </tr>\n",
       "    <tr>\n",
       "      <th>4</th>\n",
       "      <td>656634</td>\n",
       "      <td>2017-01-04 15:31:21.676130</td>\n",
       "      <td>control</td>\n",
       "      <td>old_page</td>\n",
       "      <td>0</td>\n",
       "    </tr>\n",
       "  </tbody>\n",
       "</table>\n",
       "</div>"
      ],
      "text/plain": [
       "   user_id                   timestamp    group landing_page  converted\n",
       "0   763854  2017-01-21 03:43:17.188315  control     old_page          0\n",
       "1   690555  2017-01-18 06:38:13.079449  control     old_page          0\n",
       "2   861520  2017-01-06 21:13:40.044766  control     old_page          0\n",
       "3   630778  2017-01-05 16:42:36.995204  control     old_page          0\n",
       "4   656634  2017-01-04 15:31:21.676130  control     old_page          0"
      ]
     },
     "execution_count": 15,
     "metadata": {},
     "output_type": "execute_result"
    }
   ],
   "source": [
    "ab_test.head()"
   ]
  },
  {
   "cell_type": "code",
   "execution_count": 16,
   "id": "5991e89b",
   "metadata": {
    "ExecuteTime": {
     "end_time": "2022-10-22T12:15:00.399385Z",
     "start_time": "2022-10-22T12:15:00.391636Z"
    }
   },
   "outputs": [],
   "source": [
    "# Ótimo! Tudo saiu como planejado, agora estamos prontos para analisar nossos resultados!"
   ]
  },
  {
   "cell_type": "markdown",
   "id": "9adffc66",
   "metadata": {},
   "source": [
    "## Visualizando o resultado"
   ]
  },
  {
   "cell_type": "markdown",
   "id": "9b0e5c2e",
   "metadata": {},
   "source": [
    "- A primeira coisa que podemos fazer é calcular a métrica de interesse que é a taxa de conversão.\n",
    "- A taxa de conversão é o número de pessoas que compraram/numero total de pessoas"
   ]
  },
  {
   "cell_type": "code",
   "execution_count": 17,
   "id": "992f7ac7",
   "metadata": {
    "ExecuteTime": {
     "end_time": "2022-10-22T12:15:17.863312Z",
     "start_time": "2022-10-22T12:15:17.845647Z"
    }
   },
   "outputs": [
    {
     "name": "stdout",
     "output_type": "stream",
     "text": [
      "Conversion Rate - Control Group: 0.1203\n",
      "Conversion Rate - Treatment Group: 0.1194\n"
     ]
    }
   ],
   "source": [
    "# Cálculo da taxa de conversão (De acordo com a aula do Meigaron)\n",
    "\n",
    "#========================= control Group ========================#\n",
    "sales_control = control_sample.loc[control_sample['converted'] == 1, 'converted'].sum()\n",
    "visit_control = len(control_sample)\n",
    "\n",
    "conversion_rate_control = sales_control/visit_control\n",
    "\n",
    "#========================= treatment Group ========================#\n",
    "sales_treatment = treatment_sample.loc[treatment_sample['converted'] == 1, 'converted'].sum()\n",
    "visit_treatment = len(treatment_sample)\n",
    "\n",
    "conversion_rate_treatment = sales_treatment/visit_treatment\n",
    "\n",
    "print(f'Conversion Rate - Control Group: {conversion_rate_control}')\n",
    "print(f'Conversion Rate - Treatment Group: {conversion_rate_treatment}')"
   ]
  },
  {
   "cell_type": "code",
   "execution_count": 18,
   "id": "73c34aa5",
   "metadata": {
    "ExecuteTime": {
     "end_time": "2022-10-22T12:15:28.717573Z",
     "start_time": "2022-10-22T12:15:28.417821Z"
    }
   },
   "outputs": [
    {
     "data": {
      "text/html": [
       "<style type=\"text/css\">\n",
       "</style>\n",
       "<table id=\"T_67fcf\">\n",
       "  <thead>\n",
       "    <tr>\n",
       "      <th class=\"blank level0\" >&nbsp;</th>\n",
       "      <th id=\"T_67fcf_level0_col0\" class=\"col_heading level0 col0\" >conversion_rates</th>\n",
       "      <th id=\"T_67fcf_level0_col1\" class=\"col_heading level0 col1\" >std_deviation</th>\n",
       "      <th id=\"T_67fcf_level0_col2\" class=\"col_heading level0 col2\" >std_error</th>\n",
       "    </tr>\n",
       "    <tr>\n",
       "      <th class=\"index_name level0\" >group</th>\n",
       "      <th class=\"blank col0\" >&nbsp;</th>\n",
       "      <th class=\"blank col1\" >&nbsp;</th>\n",
       "      <th class=\"blank col2\" >&nbsp;</th>\n",
       "    </tr>\n",
       "  </thead>\n",
       "  <tbody>\n",
       "    <tr>\n",
       "      <th id=\"T_67fcf_level0_row0\" class=\"row_heading level0 row0\" >control</th>\n",
       "      <td id=\"T_67fcf_row0_col0\" class=\"data row0 col0\" >0.120</td>\n",
       "      <td id=\"T_67fcf_row0_col1\" class=\"data row0 col1\" >0.325</td>\n",
       "      <td id=\"T_67fcf_row0_col2\" class=\"data row0 col2\" >0.001</td>\n",
       "    </tr>\n",
       "    <tr>\n",
       "      <th id=\"T_67fcf_level0_row1\" class=\"row_heading level0 row1\" >treatment</th>\n",
       "      <td id=\"T_67fcf_row1_col0\" class=\"data row1 col0\" >0.119</td>\n",
       "      <td id=\"T_67fcf_row1_col1\" class=\"data row1 col1\" >0.324</td>\n",
       "      <td id=\"T_67fcf_row1_col2\" class=\"data row1 col2\" >0.001</td>\n",
       "    </tr>\n",
       "  </tbody>\n",
       "</table>\n"
      ],
      "text/plain": [
       "<pandas.io.formats.style.Styler at 0x7f5f9d59dc90>"
      ]
     },
     "execution_count": 18,
     "metadata": {},
     "output_type": "execute_result"
    }
   ],
   "source": [
    "#Taxa de conversão de acordo com o Blog do medium\n",
    "\n",
    "conversion_rates = ab_test.groupby('group')['converted']\n",
    "std_p = lambda x: np.std(x, ddof=0)  #desvio padrão da proporção\n",
    "se_p = lambda x: stats.sem(x, ddof=0) #erro padrão da proporção (std/sqrt(n))\n",
    "\n",
    "conversion_rates = conversion_rates.agg([np.mean, std_p, se_p]) #fazer a média, no fundo, é o mesmo que o Meigaron fez acima. Separou todos os '1' da coluna converted, somou e dividiu pelo total\n",
    "conversion_rates.columns = ['conversion_rates', 'std_deviation', 'std_error']\n",
    "\n",
    "conversion_rates.style.format('{:.3f}')"
   ]
  },
  {
   "cell_type": "code",
   "execution_count": null,
   "id": "ca74c612",
   "metadata": {
    "ExecuteTime": {
     "end_time": "2022-10-09T23:16:00.127753Z",
     "start_time": "2022-10-09T23:16:00.108695Z"
    }
   },
   "outputs": [],
   "source": [
    "# Julgando pelas conversões acima, parece que nossos dois designs performam muito similarmente, como nosso novo design performando um pouquinho melhor. Aproximadamente 12.3 x 12.6"
   ]
  },
  {
   "cell_type": "markdown",
   "id": "44f7c9a3",
   "metadata": {},
   "source": [
    "## Plotando o resultado"
   ]
  },
  {
   "cell_type": "code",
   "execution_count": 19,
   "id": "fe1b7001",
   "metadata": {
    "ExecuteTime": {
     "end_time": "2022-10-22T12:16:32.980499Z",
     "start_time": "2022-10-22T12:16:30.304194Z"
    }
   },
   "outputs": [
    {
     "data": {
      "image/png": "[encoded data removed]",
      "text/plain": [
       "<Figure size 500x300 with 1 Axes>"
      ]
     },
     "metadata": {},
     "output_type": "display_data"
    }
   ],
   "source": [
    "plt.figure(figsize=(5,3))\n",
    "sns.barplot(x=ab_test['group'], y=ab_test['converted'], errorbar=('ci', False))\n",
    "\n",
    "plt.ylim(0, 0.17)\n",
    "plt.title('Conversion rate by group', pad=20)\n",
    "plt.xlabel('Group', labelpad=15)\n",
    "plt.ylabel('Coverted (proportion)', labelpad=15);"
   ]
  },
  {
   "cell_type": "markdown",
   "id": "aa32e8d4",
   "metadata": {},
   "source": [
    "- As taxas de conversão para nossos grupos são mesmo muito próximas. \n",
    "- Note também que a taxa de conversão para o grupo controle é menor do que esperaríamos, dado que nós sabemos sobre nossa taxa de conversão média (12.3 % e 13%).\n",
    "- Isso mostra que há alguma variação nos dados ao amostrar de uma popilação.\n",
    "\n",
    "- Então...o valor do grupo de tratamento é maio. Esta diferença é estatísticamente significante?"
   ]
  },
  {
   "cell_type": "markdown",
   "id": "7619c4dc",
   "metadata": {
    "heading_collapsed": true
   },
   "source": [
    "# Teste de hipótese - Chi-Quadrado"
   ]
  },
  {
   "cell_type": "markdown",
   "id": "bb4c4170",
   "metadata": {
    "ExecuteTime": {
     "end_time": "2022-10-13T22:46:30.836031Z",
     "start_time": "2022-10-13T22:46:30.824984Z"
    },
    "hidden": true
   },
   "source": [
    "- O teste Chi Quadrado de Pearson é um teste de hipóteses estatístico utilizado para comparar duas variáveis categóricas, também conhecido como apenas Chi Quadrado ou Qui Quadrado ou \\(\\chi^2\\). Muito utilizado para realizar comparações entre tratamentos de tabelas 2×2 (ou maiores).\n",
    "- Devemos usar o teste Chi Quadrado de Pearson quando queremos comparar duas variáveis categóricas independentes entre si.\n",
    "    - **H0**: p1 = p2\n",
    "    - **H1**: p1 ≠ p2  \n",
    "    "
   ]
  },
  {
   "cell_type": "code",
   "execution_count": null,
   "id": "8fa18638",
   "metadata": {
    "ExecuteTime": {
     "end_time": "2022-10-13T23:06:55.954073Z",
     "start_time": "2022-10-13T23:06:55.890893Z"
    },
    "code_folding": [],
    "hidden": true
   },
   "outputs": [],
   "source": [
    "# create contingency table (colocando os dados em um formato que o teste chi-quadrado aceita)\n",
    "data_crosstab = pd.crosstab(ab_test['group'],\n",
    "                            ab_test['converted'],\n",
    "                           margins=True, margins_name=\"Total\")\n",
    "data_crosstab"
   ]
  },
  {
   "cell_type": "code",
   "execution_count": null,
   "id": "fc80b61b",
   "metadata": {
    "ExecuteTime": {
     "end_time": "2022-10-13T23:21:19.154310Z",
     "start_time": "2022-10-13T23:21:19.136535Z"
    },
    "code_folding": [],
    "hidden": true
   },
   "outputs": [],
   "source": [
    "# create contingency table (colocando os dados em um formato que o teste chi-quadrado aceita) - Jeito do Meigaron - essa tabela do Meigaron ficou errada. Na tabela deveria constar a quantidade de convertidos e a quantidade de não convertidos, e não a quantidade total\n",
    "\n",
    "df_table = ab_test[['group', 'converted']].groupby('group').agg( { 'converted': ['sum', 'count']})\n",
    "df_table.columns = ['converted', 'total']\n",
    "df_table"
   ]
  },
  {
   "cell_type": "code",
   "execution_count": null,
   "id": "3bf3951b",
   "metadata": {
    "ExecuteTime": {
     "end_time": "2022-10-13T23:29:50.163114Z",
     "start_time": "2022-10-13T23:29:50.153641Z"
    },
    "hidden": true
   },
   "outputs": [],
   "source": [
    "# Chi_Quadrado - usando a tabela de contingência (data_crosstab)\n",
    "\n",
    "\n",
    "chi2, pval, dof, expected = chi2_contingency(data_crosstab, correction=False)\n",
    "print(f' p-value: {pval}\\n')\n",
    "\n",
    "if pval < 0.05:\n",
    "    print(f'Rejeita a hipótese nula')\n",
    "else:\n",
    "    print(f'Aceita a hipótese nula')"
   ]
  },
  {
   "cell_type": "markdown",
   "id": "f0236c1d",
   "metadata": {
    "ExecuteTime": {
     "end_time": "2022-10-13T23:41:17.313877Z",
     "start_time": "2022-10-13T23:41:17.271685Z"
    },
    "heading_collapsed": true,
    "hidden": true
   },
   "source": [
    "## Teste de hipótese de acordo com o texto do medium \"A/B testing: A step-by-step guide in Python\"\n",
    "\n",
    "- A última etapa da nossa análise é testar nossas hipóteses. Desde que nós temos uma amostra muito grande, nós podemos usar a aproximação normal para calcular nosso p-valor (isto é, z-teste)\n",
    "- Novamente, Python faz todos os cálculos muito facilmente. Nós podemos usar o módulo statsmodels.stats.proportion para calcular o p-valor"
   ]
  },
  {
   "cell_type": "code",
   "execution_count": null,
   "id": "30a22c3d",
   "metadata": {
    "ExecuteTime": {
     "end_time": "2022-10-13T23:51:48.210415Z",
     "start_time": "2022-10-13T23:51:48.166632Z"
    },
    "hidden": true
   },
   "outputs": [],
   "source": [
    "# Separando grupos de controle e de tratamento\n",
    "control_results = ab_test[ab_test['group'] == 'control']['converted']\n",
    "treatment_results = ab_test[ab_test['group'] == 'treatment']['converted']\n",
    "\n",
    "# Contando quantas pessoas tem em cada grupo\n",
    "n_con = control_results.count()   #4720\n",
    "n_treat = treatment_results.count()  #4720\n",
    "\n",
    "# Contando a quantidade de conversões em ambos os grupos\n",
    "successes = [control_results.sum(), treatment_results.sum()]   #Lista com a conversão em cada grupo\n",
    "nobs = [n_con, n_treat]   # Lista com o total de pessoas em cada grupo\n",
    "\n",
    "z_stat, pval = proportions_ztest(successes, nobs=nobs)\n",
    "(lower_con, lower_treat), (upper_con, upper_treat) = proportion_confint(successes, nobs=nobs, alpha=0.05)\n",
    "\n",
    "print(f'z statistic: {z_stat:.2f}')\n",
    "print(f'p-value: {pval:.3f}')\n",
    "print(f'ci 95% for control group: [{lower_con:.3f}, {upper_con:.3f}]')\n",
    "print(f'ci 95% for treatment group: [{lower_treat:.3f}, {upper_treat:.3f}]')"
   ]
  },
  {
   "cell_type": "markdown",
   "id": "670f226c",
   "metadata": {
    "heading_collapsed": true
   },
   "source": [
    "# E se a conversão tivesse aumentado? Próximos passos"
   ]
  },
  {
   "cell_type": "markdown",
   "id": "af415a25",
   "metadata": {
    "hidden": true
   },
   "source": [
    "- Supondo que após fazermos os testes tenhamos chegado à conclusão de que a conversão da página nova em relação à pagina antiga tenha aumentado em 2%. Ou seja, a nova conversão é de 15%.\n",
    "- É preciso converter esse valor de conversão para valores monetários, de forma a apresentar ao CEO quanto essa conversão representa em aumento financeiro para a empresa."
   ]
  },
  {
   "cell_type": "code",
   "execution_count": null,
   "id": "c5de2f34",
   "metadata": {
    "hidden": true
   },
   "outputs": [],
   "source": [
    "# representando a conversão em R$\n",
    "\n",
    "conv_pag_atual = 13%\n",
    "conv_pag_nova = 15%"
   ]
  },
  {
   "cell_type": "code",
   "execution_count": null,
   "id": "9b334fdf",
   "metadata": {
    "ExecuteTime": {
     "end_time": "2022-10-17T00:00:27.497450Z",
     "start_time": "2022-10-17T00:00:27.473264Z"
    },
    "hidden": true
   },
   "outputs": [],
   "source": [
    "# primeiro fazemos uma coṕia do df por segurança\n",
    "\n",
    "df1 = df.copy()\n",
    "df1.head()"
   ]
  },
  {
   "cell_type": "code",
   "execution_count": null,
   "id": "c4b1ab06",
   "metadata": {
    "ExecuteTime": {
     "end_time": "2022-10-17T00:00:30.730876Z",
     "start_time": "2022-10-17T00:00:29.545384Z"
    },
    "hidden": true
   },
   "outputs": [],
   "source": [
    "# Estimando a quantidade de clientes compram o produto diariamente e quantos visitantes a página tem diariamente (agora considerando todo o dataset)\n",
    "\n",
    "# compradores = numero de visitantes diários * 0.13\n",
    "# Gross Margin Values (GMV) = compradores * 4500 (valor do produto ou do ticket médio)\n",
    "\n",
    "# Para isso, primeiro temos que modificar os dados da coluna timestamp de object para datetime, de forma a extrair a data \n",
    "\n",
    "df1['timestamp'] = pd.to_datetime(df1['timestamp']).apply(lambda x : x.strftime('%Y-%m-%d'))\n",
    "df1.head()"
   ]
  },
  {
   "cell_type": "code",
   "execution_count": null,
   "id": "1e78c5b7",
   "metadata": {
    "ExecuteTime": {
     "end_time": "2022-10-17T00:00:30.950763Z",
     "start_time": "2022-10-17T00:00:30.855346Z"
    },
    "hidden": true
   },
   "outputs": [],
   "source": [
    "# Agora podemos agrupar os usuários por data para saber quantos clientes visitaram a página por dia\n",
    "\n",
    "df2 = df1[['user_id','timestamp']].groupby( 'timestamp' ).count().reset_index()\n",
    "df2.head()"
   ]
  },
  {
   "cell_type": "code",
   "execution_count": null,
   "id": "e26978e9",
   "metadata": {
    "ExecuteTime": {
     "end_time": "2022-10-17T00:00:32.650494Z",
     "start_time": "2022-10-17T00:00:32.628173Z"
    },
    "hidden": true
   },
   "outputs": [],
   "source": [
    "# Calculando os valores para a página corrente (conversão de 13%)\n",
    "\n",
    "df2['current_purchase'] = np.ceil(df2['user_id'] * 0.13).astype(int)\n",
    "df2['current_gmv'] = df2['current_purchase'] * 4500\n",
    "current_gmv = df2['current_gmv'].sum()\n",
    "print(f'Current GMV: {current_gmv}')\n",
    "\n",
    "# Calculando os valores para a página nova (conversão de 15%)\n",
    "\n",
    "df2['new_purchase'] = np.ceil(df2['user_id'] * 0.15).astype(int)\n",
    "df2['new_gmv'] = df2['new_purchase'] * 4500\n",
    "new_gmv = df2['new_gmv'].sum()\n",
    "print(f'New GMV: {new_gmv}')\n",
    "\n",
    "# De quanto foi o aumento em %\n",
    "lift_gmv = ((new_gmv - current_gmv)/current_gmv)*100\n",
    "print(f'Expected Lift GMV: {lift_gmv :.2f}%')\n",
    "\n",
    "# De quanto foi o aumento em R$\n",
    "lift_gmv_liq = (new_gmv - current_gmv)\n",
    "print(f'Expectec Profit R${lift_gmv_liq :.2f}')"
   ]
  },
  {
   "cell_type": "code",
   "execution_count": null,
   "id": "06638b48",
   "metadata": {
    "ExecuteTime": {
     "end_time": "2022-10-17T00:00:34.542712Z",
     "start_time": "2022-10-17T00:00:34.521254Z"
    },
    "hidden": true
   },
   "outputs": [],
   "source": [
    "df2.head()"
   ]
  },
  {
   "cell_type": "markdown",
   "id": "901399d5",
   "metadata": {
    "heading_collapsed": true
   },
   "source": [
    "# Teste Estatísticos - Exemplos"
   ]
  },
  {
   "cell_type": "markdown",
   "id": "5a09a263",
   "metadata": {
    "heading_collapsed": true,
    "hidden": true
   },
   "source": [
    "## Problema 01 - One sample t-test"
   ]
  },
  {
   "cell_type": "markdown",
   "id": "237118db",
   "metadata": {
    "hidden": true
   },
   "source": [
    "- Suponha que uma bióloga gostaria de saber se a altura média de uma certa espécie de planta é igual a 15 cm.\n",
    "- Ela coleta amostras aleatórias de 12 plantas e anota cada uma de suas alturas em cm.\n",
    "\n",
    "- Dados:\n",
    "    - tipo de dado: contínuo\n",
    "    - Tipo de problema: diferença entre médias da mesma população\n",
    "    - Teste: One sample t-test\n",
    "        - hipótese nula: a altura médias das plantas é 15 cm.\n",
    "        - hipótese alternativa: a altura média das plantas não é 15 cm.\n",
    "        - significância: alpha = 0.05"
   ]
  },
  {
   "cell_type": "code",
   "execution_count": null,
   "id": "45a09c2c",
   "metadata": {
    "ExecuteTime": {
     "end_time": "2022-10-09T22:10:19.603049Z",
     "start_time": "2022-10-09T22:10:19.591712Z"
    },
    "hidden": true
   },
   "outputs": [],
   "source": [
    "import random"
   ]
  },
  {
   "cell_type": "code",
   "execution_count": null,
   "id": "b220196c",
   "metadata": {
    "ExecuteTime": {
     "end_time": "2022-10-09T22:31:05.424196Z",
     "start_time": "2022-10-09T22:31:05.413312Z"
    },
    "hidden": true
   },
   "outputs": [],
   "source": [
    "altura_plantas = [random.randrange(12, 18, 1) for i in range(12)]\n",
    "altura_plantas"
   ]
  },
  {
   "cell_type": "code",
   "execution_count": null,
   "id": "9239b191",
   "metadata": {
    "ExecuteTime": {
     "end_time": "2022-10-09T22:31:24.891441Z",
     "start_time": "2022-10-09T22:31:24.885184Z"
    },
    "hidden": true
   },
   "outputs": [],
   "source": [
    "np.mean(altura_plantas)"
   ]
  },
  {
   "cell_type": "code",
   "execution_count": null,
   "id": "0205ee65",
   "metadata": {
    "ExecuteTime": {
     "end_time": "2022-10-10T22:49:30.013833Z",
     "start_time": "2022-10-10T22:49:30.006894Z"
    },
    "hidden": true
   },
   "outputs": [],
   "source": [
    "# One sample t-test\n",
    "\n",
    "# Para rodar o one sample t-teste nós usaremos oa função scipy.stats.ttest_1samp()\n",
    "# O t-teste é calculado para a média de um conjunto de valores.\n",
    "# A hipótese nula é que a média esperada das amostras de observações independentes seja igual a média da população especificada (popmean)\n",
    "# Se o valor-p for menor que 0.05, devemos rejeitar a hipótese nula de que não há diferença entre as médias e concluir que existe uma diferença significativa. Se o valor-p for maior que 0.05, aceita a hipótese nula de que as médias são iguais\n",
    "\n",
    "t_statistic, p_value = stats.ttest_1samp(a = altura_plantas, popmean = 15)\n",
    "print(f'O p-valor encontrado foi {p_value}')\n",
    "\n",
    "if p_value > 0.05:\n",
    "    print(f'Como o p-valor é maior que a significância, aceitamos a hipótese nula de que não existe diferença significativa entre as médias')\n",
    "else:\n",
    "    print(f'Como o p-valor é menor que a significância, rejeitamos a hipótese nula de que não existe diferença significativa entre as médias')"
   ]
  },
  {
   "cell_type": "markdown",
   "id": "0facb063",
   "metadata": {
    "heading_collapsed": true,
    "hidden": true
   },
   "source": [
    "## Problema 02 - Solução 1 (Condições paramétricas satisfeitas) Two sample t-test"
   ]
  },
  {
   "cell_type": "markdown",
   "id": "3137b611",
   "metadata": {
    "hidden": true
   },
   "source": [
    "- Pesquisadores gostariam de saber se duas espécies de plantas têm a mesma altura média. \n",
    "- Eles coletaram 20 amostras de cada espécie.\n",
    "- **hipótese nula**: as alturas médias das espécies dos dois grupos são iguais.\n",
    "- **hipótese alternativa**: as alturas médias das espécies dos dois grupos não são iguais .\n",
    "- significância: alpha = 0.05\n",
    "\n",
    "- Nesse caso é preciso checar se os grupos de amostras satisfazem as premissas para o teste de hipóteses (**condições paramétricas**):\n",
    "    - as amostras são independentes;\n",
    "    - os dados são normalmente distribuídos (Teste do Shapiro)\n",
    "    - as variâncias dos dois grupos são iguais?\n",
    " "
   ]
  },
  {
   "cell_type": "code",
   "execution_count": null,
   "id": "85bebccd",
   "metadata": {
    "ExecuteTime": {
     "end_time": "2022-10-09T23:09:11.379883Z",
     "start_time": "2022-10-09T23:09:11.367864Z"
    },
    "hidden": true
   },
   "outputs": [],
   "source": [
    "# Fabricando os dados (está comentado pq se rodar outra vez os números mudam)\n",
    "#altura_grupo1 = [random.randrange(8, 20, 1) for i in range(20)]\n",
    "#altura_grupo2 = [random.randrange(8, 20, 1) for i in range(20)]\n"
   ]
  },
  {
   "cell_type": "code",
   "execution_count": null,
   "id": "64bea0b6",
   "metadata": {
    "ExecuteTime": {
     "end_time": "2022-10-10T23:20:14.817398Z",
     "start_time": "2022-10-10T23:20:14.803486Z"
    },
    "hidden": true
   },
   "outputs": [],
   "source": [
    "altura_grupo1 = [18, 9, 9, 9, 16, 14, 13, 19, 18, 19, 8, 18, 17, 16, 13, 14, 17, 16, 11, 11]\n",
    "altura_grupo2 = [17, 18, 14, 16, 14, 13, 10, 13, 18, 19, 8, 12, 14, 9, 18, 15, 13, 16, 11, 14]"
   ]
  },
  {
   "cell_type": "code",
   "execution_count": null,
   "id": "d3c26c3f",
   "metadata": {
    "ExecuteTime": {
     "end_time": "2022-10-10T23:20:17.256989Z",
     "start_time": "2022-10-10T23:20:17.250933Z"
    },
    "hidden": true
   },
   "outputs": [],
   "source": [
    "# Calculando as médias e as variâncias6\n",
    "\n",
    "print(f'A altura média das amostras do grupo 1 é: {np.mean(altura_grupo1)}')\n",
    "print(f'A variância do grupo 1 é {np.var(altura_grupo1)}')"
   ]
  },
  {
   "cell_type": "code",
   "execution_count": null,
   "id": "d2135287",
   "metadata": {
    "ExecuteTime": {
     "end_time": "2022-10-10T23:20:24.265825Z",
     "start_time": "2022-10-10T23:20:24.256134Z"
    },
    "hidden": true
   },
   "outputs": [],
   "source": [
    "print(f'A altura média das amostras do grupo 2 é: {np.mean(altura_grupo2)}')\n",
    "print(f'A variância do grupo 2 é {np.var(altura_grupo2)}')"
   ]
  },
  {
   "cell_type": "code",
   "execution_count": null,
   "id": "c43cc76b",
   "metadata": {
    "ExecuteTime": {
     "end_time": "2022-10-10T22:44:46.062144Z",
     "start_time": "2022-10-10T22:44:46.044257Z"
    },
    "hidden": true
   },
   "outputs": [],
   "source": [
    "# condições paramétricas\n",
    "\n",
    "# 1 - Dados normalmente distribuídos (teste do shapiro)\n",
    "# O teste Shapiro-Wilk testa a hipótese nula de que os dados seguem uma distribuição normal\n",
    "# significância 0.05\n",
    "shapiro_test_g1, pvalue1 = stats.shapiro(altura_grupo1)\n",
    "print(f'O p-valor do grupo de dados 1 é {pvalue1}')\n",
    "\n",
    "if pvalue1 > 0.05: \n",
    "    print(f'O p-valor do grupo de dados 1 é maior que 0.05, portanto aceitamos a hipótese nula de que os dados seguem uma distribuição normal\\n')\n",
    "else:\n",
    "    print(f'O p-valor do grupo de dados 1 é menor que 0.05, portanto rejeitamos a hipótese nula de que os dados seguem uma distribuição normal\\n')\n",
    "\n",
    "shapiro_test_g2, pvalue2 = stats.shapiro(altura_grupo2)\n",
    "print(f'O p-valor do grupo de dados 2 é {pvalue2}')\n",
    "\n",
    "if pvalue2 > 0.05: \n",
    "    print(f'O p-valor do grupo de dados 2 é maior que 0.05, portanto aceitamos a hipótese nula de que os dados seguem uma distribuição normal\\n')\n",
    "else:\n",
    "    print(f'O p-valor do grupo de dados 2 é menor que 0.05, portanto rejeitamos a hipótese nula de que os dados seguem uma distribuição normal\\n')\n",
    "\n",
    "\n",
    "# 2 - Variâncias iguais\n",
    "# O teste de Levene é usado para testar se k amostras foram coletadas de populações que possuem mesma variância.\n",
    "# A hipótese nula é de que as variâncias são iguais\n",
    "# significância 0.05\n",
    "# o Meigaron disse que se dividir uma variância pela outra e o valor der menor que 4, significa que as variâncias são iguais\n",
    "\n",
    "levene_test, pvalue = stats.levene(altura_grupo1, altura_grupo2, center='mean')\n",
    "print(f'O p-valor para o teste de Levene é {pvalue}')\n",
    "\n",
    "if pvalue > 0.05: \n",
    "    print(f'O p-valor para o teste de Levene é maior que 0.05, portanto aceitamos a hipótese nula de que as variâncias são iguais\\n')\n",
    "else:\n",
    "    print(f'O p-valor para o teste de Levene é menor que 0.05, portanto rejeitamos a hipótese nula de que as variâncias são iguais\\n')\n",
    "\n",
    "# 3 - Amostras independentes\n",
    "# Não tem teste pra isso? \n",
    "\n",
    "\n",
    "# Considerou que as três suposições foram satisfeitas, então usou o two sample t-test\n"
   ]
  },
  {
   "cell_type": "code",
   "execution_count": null,
   "id": "f0ce8268",
   "metadata": {
    "ExecuteTime": {
     "end_time": "2022-10-10T22:45:51.351623Z",
     "start_time": "2022-10-10T22:45:51.336364Z"
    },
    "hidden": true
   },
   "outputs": [],
   "source": [
    "# Aplicação do two sample t-test\n",
    "\n",
    "statistic_ts, p_value_ts = stats.ttest_ind(a=altura_grupo1, b=altura_grupo2, equal_var=True)\n",
    "print(f'O p-valor do two sample t-test é {p_value_ts}')\n",
    "\n",
    "if p_value_ts > 0.05:\n",
    "    print(f'Como o p-valor é maior que a significância (0.05), aceitamos a hipótese nula de que as médias são iguais')\n",
    "else:\n",
    "    print(f'Como o p-valor é menor que a significância (0.05), rejeitamos a hipótese nula de que as médias são iguais')"
   ]
  },
  {
   "cell_type": "markdown",
   "id": "8e1d40b3",
   "metadata": {
    "heading_collapsed": true,
    "hidden": true
   },
   "source": [
    "## Problema 02 - Solução 2 (Condições paramétricas não satisfeitas) Mann-Whitney U-test ou Welch's test"
   ]
  },
  {
   "cell_type": "markdown",
   "id": "520a09fc",
   "metadata": {
    "hidden": true
   },
   "source": [
    "- Pesquisadores gostariam de saber se duas espécies de plantas têm a mesma altura média.\n",
    "\n",
    "- Eles coletaram 20 amostras de cada espécie.\n",
    "\n",
    "- **hipótese nula**: as alturas médias das espécies dos dois grupos são iguais.\n",
    "\n",
    "- **hipótese alternativa**: as alturas médias das espécies dos dois grupos não são iguais .\n",
    "\n",
    "- significância: alpha = 0.05\n",
    "\n",
    "- Quando se dispõe de uma amostra pequena e a variável numérica não apresenta sabidamente uma variação normal (ou não dá para ser verificada satisfatoriamente), ou ainda, quando não há homogeneidade das variâncias, o teste t não é apropriado. \n",
    "\n",
    "- Nessa situação, pode-se utilizar o teste não paramétrico de **Mann-Whitney**. O teste de Mann-Whitney (Wilcoxon rank-sum test) é indicado para comparação de dois grupos não pareados para se verificar se pertencem ou não à mesma população e cujos requisitos para aplicação do teste t de Student não foram cumpridos. \n",
    "\n",
    "- Uma outra alternativa é aplicar o **Welch's t-test** para comparar dois grupos tendo variâncias diferentes"
   ]
  },
  {
   "cell_type": "code",
   "execution_count": null,
   "id": "27a88e28",
   "metadata": {
    "ExecuteTime": {
     "end_time": "2022-10-12T13:12:07.502545Z",
     "start_time": "2022-10-12T13:12:07.490489Z"
    },
    "hidden": true
   },
   "outputs": [],
   "source": [
    "# Fabricando os dados \n",
    "\n",
    "altura_grupo1 = np.array([14, 15, 15, 16, 13, 8, 14,17, 16, 14, 19, 20, 21, 15, 15, 16, 14, 9, 10, 15])\n",
    "altura_grupo2 = np.array([36, 37, 44, 27, 24, 28, 27, 39, 29, 24, 37, 32, 24, 26, 33, 32, 25, 18, 21, 35])"
   ]
  },
  {
   "cell_type": "code",
   "execution_count": null,
   "id": "c520c745",
   "metadata": {
    "ExecuteTime": {
     "end_time": "2022-10-12T13:12:09.013660Z",
     "start_time": "2022-10-12T13:12:09.008910Z"
    },
    "hidden": true
   },
   "outputs": [],
   "source": [
    "# Calculando as médias dos dois grupos (perceba que em um deles existe um outlier)\n",
    "\n",
    "print(f'A média do grupo 1 é {np.mean(altura_grupo1)}')\n",
    "print(f'A média do grupo 2 é {np.mean(altura_grupo2)}')\n",
    "print(f'A variância do grupo 1 é {np.var(altura_grupo1)}')\n",
    "print(f'A variância do grupo 2 é {np.var(altura_grupo2)}')"
   ]
  },
  {
   "cell_type": "code",
   "execution_count": null,
   "id": "55dca2ba",
   "metadata": {
    "ExecuteTime": {
     "end_time": "2022-10-12T13:12:28.729382Z",
     "start_time": "2022-10-12T13:12:28.719141Z"
    },
    "hidden": true
   },
   "outputs": [],
   "source": [
    "# condições paramétricas\n",
    "\n",
    "# 1 - Dados normalmente distribuídos (teste do shapiro)\n",
    "# O teste Shapiro-Wilk testa a hipótese nula de que os dados seguem uma distribuição normal\n",
    "# significância 0.05\n",
    "shapiro_test_g1, pvalue1 = stats.shapiro(altura_grupo1)\n",
    "print(f'O p-valor do grupo de dados 1 é {pvalue1}')\n",
    "\n",
    "if pvalue1 > 0.05: \n",
    "    print(f'O p-valor do grupo de dados 1 é maior que 0.05, portanto aceitamos a hipótese nula de que os dados seguem uma distribuição normal\\n')\n",
    "else:\n",
    "    print(f'O p-valor do grupo de dados 1 é menor que 0.05, portanto rejeitamos a hipótese nula de que os dados seguem uma distribuição normal\\n')\n",
    "\n",
    "shapiro_test_g2, pvalue2 = stats.shapiro(altura_grupo2)\n",
    "print(f'O p-valor do grupo de dados 2 é {pvalue2}')\n",
    "\n",
    "if pvalue2 > 0.05: \n",
    "    print(f'O p-valor do grupo de dados 2 é maior que 0.05, portanto aceitamos a hipótese nula de que os dados seguem uma distribuição normal\\n')\n",
    "else:\n",
    "    print(f'O p-valor do grupo de dados 2 é menor que 0.05, portanto rejeitamos a hipótese nula de que os dados seguem uma distribuição normal\\n')\n",
    "\n",
    "\n",
    "# 2 - Variâncias iguais \n",
    "# O teste de Levene é usado para testar se k amostras foram coletadas de populações que possuem mesma variância.\n",
    "# A hipótese nula é de que as variâncias são iguais\n",
    "# significância 0.05\n",
    "# o Meigaron disse que se dividir uma variância pela outra e o valor der menor que 4, significa que as variâncias são iguais\n",
    "\n",
    "levene_test, pvalue = stats.levene(altura_grupo1, altura_grupo2, center='mean')\n",
    "print(f'O p-valor para o teste de Levene é {pvalue}')\n",
    "\n",
    "if pvalue > 0.05: \n",
    "    print(f'O p-valor para o teste de Levene é maior que 0.05, portanto aceitamos a hipótese nula de que as variâncias são iguais\\n')\n",
    "else:\n",
    "    print(f'O p-valor para o teste de Levene é menor que 0.05, portanto rejeitamos a hipótese nula de que as variâncias são iguais\\n')\n",
    "\n",
    "# 3 - Amostras independentes\n",
    "# Não tem teste pra isso? \n",
    "\n",
    "\n",
    "# Considerou que as três suposições foram satisfeitas, então usou o two sample t-test"
   ]
  },
  {
   "cell_type": "code",
   "execution_count": null,
   "id": "1c38b8e1",
   "metadata": {
    "ExecuteTime": {
     "end_time": "2022-10-12T13:13:53.054333Z",
     "start_time": "2022-10-12T13:13:53.046990Z"
    },
    "hidden": true
   },
   "outputs": [],
   "source": [
    "# Como, apesar de ambos os grupos seguirem a distribuição normal, as variâncias são diferentes, vamos aplicar o teste não paramétrico Mann Whitney:\n",
    "\n",
    "statistics_mw, pvalue_mw = stats.mannwhitneyu(altura_grupo1, altura_grupo2, alternative='two-sided')\n",
    "\n",
    "print(f'O p-valor para o teste de Mann_Whitney é de: {pvalue_mw}')\n",
    "\n",
    "if pvalue_mw > 0.05:\n",
    "    print(f'Como o p-valor é maior que a significância (0.05), aceitamos a hipótese nula de que as médias são iguais')\n",
    "else:\n",
    "    print(f'Como o p-valor é menor que a significância (0.05), rejeitamos a hipótese nula de que as médias são iguais')"
   ]
  },
  {
   "cell_type": "code",
   "execution_count": null,
   "id": "d2a239c4",
   "metadata": {
    "ExecuteTime": {
     "end_time": "2022-10-12T13:14:24.097973Z",
     "start_time": "2022-10-12T13:14:24.090158Z"
    },
    "hidden": true
   },
   "outputs": [],
   "source": [
    "# Alternativamente, vamos aplicação do two sample t-test (usando False para equal_var)\n",
    "\n",
    "statistic_ts, p_value_ts = stats.ttest_ind(a=altura_grupo1, b=altura_grupo2, equal_var=False)\n",
    "print(f'O p-valor do two sample t-test é {p_value_ts}')\n",
    "\n",
    "if p_value_ts > 0.05:\n",
    "    print(f'Como o p-valor é maior que a significância (0.05), aceitamos a hipótese nula de que as médias são iguais')\n",
    "else:\n",
    "    print(f'Como o p-valor é menor que a significância (0.05), rejeitamos a hipótese nula de que as médias são iguais')"
   ]
  },
  {
   "cell_type": "code",
   "execution_count": null,
   "id": "5c5269d0",
   "metadata": {
    "ExecuteTime": {
     "end_time": "2022-10-12T13:18:05.370291Z",
     "start_time": "2022-10-12T13:18:05.364920Z"
    },
    "hidden": true
   },
   "outputs": [],
   "source": [
    "# # Aplicando o Welch's test\n",
    "\n",
    "statistic_w, pvalue_w = stats.ttest_ind(altura_grupo1, altura_grupo2, equal_var = False)\n",
    "print(f'O p-valor para o teste de Welch é {pvalue_w}')\n",
    "\n",
    "if pvalue_w > 0.05:\n",
    "    print(f'Como o p-valor é maior que a significância (0.05) aceitamos a Hipótese Nula de que as médias são iguais')\n",
    "else:\n",
    "    print(f'Como o p-valor é menor que a significância (0.05) rejeitamos a Hipótese Nula de que as médias são iguais')"
   ]
  },
  {
   "cell_type": "markdown",
   "id": "8dede3a2",
   "metadata": {
    "heading_collapsed": true,
    "hidden": true
   },
   "source": [
    "## Problema 03 - One-Way-ANOVA e teste de Tukey"
   ]
  },
  {
   "cell_type": "markdown",
   "id": "0d0ff8f2",
   "metadata": {
    "hidden": true
   },
   "source": [
    "- Pesquisadores gostariam de saber se existe uma diferença entre as médias de 4 grupos que foram submetidos a tratamentos diferentes;\n",
    "- Nesse caso temos:\n",
    "    - Tipo de dado: contínuo;\n",
    "    - Relação ou diferença? diferença;\n",
    "    - Diferença de quê? médias;\n",
    "    - Quantos grupos: + de 2;\n",
    "    - Se a condições paramétricas forem satisfeitas = **One-way-ANOVA** (Basicamente, este método informa se existe um tratamento discrepante dentre os demais. Entretanto, ele exige que algumas premissas sejam atendidas, como: distribuição normal dos resíduos e homogeneidade de variância).\n",
    "    - Se as condições paramétricas não forem satisfeitas = **Kruskal Wallis test**\n",
    "- Os testes estatísticos citados acima não mostram qual das médias é diferente, caso haja diferença entre as médias. Dessa forma, temos que usar um teste PÓS ANÁLISE para verificar qual das médias é a problemática."
   ]
  },
  {
   "cell_type": "code",
   "execution_count": null,
   "id": "434148ea",
   "metadata": {
    "ExecuteTime": {
     "end_time": "2022-10-17T22:52:42.307407Z",
     "start_time": "2022-10-17T22:52:42.256041Z"
    },
    "hidden": true
   },
   "outputs": [],
   "source": [
    "# Fabricando os dados\n",
    "\n",
    "df = pd.DataFrame( { 'A': [25,30,28,36,29],\n",
    "                     'B': [45,55,29,56,40],\n",
    "                     'C': [30,29,33,37,27],\n",
    "                     'D': [54,60,51,62,73]})\n",
    "df"
   ]
  },
  {
   "cell_type": "code",
   "execution_count": null,
   "id": "68693181",
   "metadata": {
    "ExecuteTime": {
     "end_time": "2022-10-17T22:52:43.740251Z",
     "start_time": "2022-10-17T22:52:43.728646Z"
    },
    "hidden": true
   },
   "outputs": [],
   "source": [
    "# Calculando as médias e as variâncias\n",
    "\n",
    "media1 = np.mean(df['A'])\n",
    "var1 = np.var(df['A'])\n",
    "print(f'Média1 = {media1} e Var1 = {var1}')\n",
    "\n",
    "media2 = np.mean(df['B'])\n",
    "var2 = np.var(df['B'])\n",
    "print(f'Média2 = {media2} e Var2 = {var2}')\n",
    "\n",
    "media3 = np.mean(df['C'])\n",
    "var3 = np.var(df['C'])\n",
    "print(f'Média3 = {media3} e Var3 = {var3}')\n",
    "\n",
    "media4 = np.mean(df['D'])\n",
    "var4 = np.var(df['D'])\n",
    "print(f'Média4 = {media4} e Var4 = {var4}')"
   ]
  },
  {
   "cell_type": "code",
   "execution_count": null,
   "id": "dd223373",
   "metadata": {
    "ExecuteTime": {
     "end_time": "2022-10-17T22:55:12.499959Z",
     "start_time": "2022-10-17T22:55:12.402328Z"
    },
    "code_folding": [],
    "hidden": true
   },
   "outputs": [],
   "source": [
    "# Verificando as condições paramétricas\n",
    "\n",
    "# condições paramétricas\n",
    "\n",
    "# 1 - Dados normalmente distribuídos (teste do shapiro)\n",
    "\n",
    "shapiro_test_g1, pvalue1 = stats.shapiro(df['A'])\n",
    "print(f'O p-valor do grupo de dados 1 é {pvalue1}')\n",
    "\n",
    "shapiro_test_g2, pvalue2 = stats.shapiro(df['B'])\n",
    "print(f'O p-valor do grupo de dados 2 é {pvalue2}')\n",
    "\n",
    "shapiro_test_g2, pvalue2 = stats.shapiro(df['C'])\n",
    "print(f'O p-valor do grupo de dados 2 é {pvalue2}')\n",
    "\n",
    "shapiro_test_g2, pvalue2 = stats.shapiro(df['D'])\n",
    "print(f'O p-valor do grupo de dados 2 é {pvalue2}')\n",
    "\n",
    "# Todos os grupos seguem a distribuição normal\n",
    "\n",
    "\n",
    "# 2 - Variâncias iguais\n",
    "levene_test, pvalue = stats.levene(df['A'], df['B'], df['C'], df['D'], center='mean')\n",
    "print(f'O p-valor para o teste de Levene é {pvalue}')\n",
    "\n",
    "# As variâncias são estatísticamente iguais"
   ]
  },
  {
   "cell_type": "code",
   "execution_count": null,
   "id": "10bc90a9",
   "metadata": {
    "ExecuteTime": {
     "end_time": "2022-10-17T22:59:41.111956Z",
     "start_time": "2022-10-17T22:59:41.050437Z"
    },
    "code_folding": [],
    "hidden": true
   },
   "outputs": [],
   "source": [
    "# Transformando o dataframe em uma forma que será usada no teste de tukey (mais tarde)\n",
    "\n",
    "df_melt = pd.melt(df.reset_index(), id_vars = ['index'], value_vars = ['A', 'B', 'C', 'D'])\n",
    "df_melt.columns = ['index', 'treatment', 'values']\n",
    "df_melt.head()"
   ]
  },
  {
   "cell_type": "code",
   "execution_count": null,
   "id": "c0c7396c",
   "metadata": {
    "ExecuteTime": {
     "end_time": "2022-10-17T22:59:51.995342Z",
     "start_time": "2022-10-17T22:59:51.025240Z"
    },
    "code_folding": [],
    "hidden": true
   },
   "outputs": [],
   "source": [
    "# Plotando gráficos para a visualização das médias\n",
    "\n",
    "sns.boxplot(x='treatment', y='values', data=df_melt)\n",
    "sns.swarmplot(x='treatment', y='values', data=df_melt)"
   ]
  },
  {
   "cell_type": "code",
   "execution_count": null,
   "id": "e8dffe8d",
   "metadata": {
    "ExecuteTime": {
     "end_time": "2022-10-17T23:02:27.606627Z",
     "start_time": "2022-10-17T23:02:27.596546Z"
    },
    "hidden": true
   },
   "outputs": [],
   "source": [
    "# Aplicando o One-Way-Anova\n",
    "\n",
    "# One-way ANOVA é um teste que é usado para identificar se existe uma diferença estatísticamente significante entre os valores médios de mais de um grupo.\n",
    "\n",
    "    #H0: As médias de todos os grupos são iguais;\n",
    "    #H1: Existe pelo menos uma média que difere do restante;\n",
    "\n",
    "stats, pvalue = f_oneway(df['A'], df['B'], df['C'], df['D'])\n",
    "print(f'o pvalor é {pvalue}')\n",
    "\n",
    "# Nossa ANOVA resultou em um p-valor menor que 5%, portanto, temos evidências de que ao menos um tratamento se diferencia dos demais. Isso já é uma resposta, mas pouco acrescenta à nossa pesquisa pois queremos saber quem é este tratamento discrepante. Ou melhor, queremos poder comparar os tratamentos entre si e verificar quais são estatisticamente iguais ou diferentes.\n"
   ]
  },
  {
   "cell_type": "code",
   "execution_count": null,
   "id": "3bcc0839",
   "metadata": {
    "ExecuteTime": {
     "end_time": "2022-10-17T23:03:54.093517Z",
     "start_time": "2022-10-17T23:03:53.435640Z"
    },
    "hidden": true
   },
   "outputs": [],
   "source": [
    "# Para esta abordagem existem alguns testes de médias e cada um tem uma particularidade, mas de longe o mais utilizado é o de Tukey. A interpretação do teste de Tukey é simples. Após determinarmos a diferença mínima significativa (ou Honest Significant Difference - HSD), podemos julgar se as médias são iguais ou não. Em termos práticos, esse valor nos dá uma margem de igualdade, pois se a diferença entre dois tratamentos for maior do que isso, os médias são diferentes.\n",
    "\n",
    "# Realizando o teste tukey\n",
    "tukey = pairwise_tukeyhsd(endog=df_melt['values'],\n",
    "                          groups=df_melt['treatment'],\n",
    "                          alpha=0.05)\n",
    "\n",
    "#mostrando os resultados do teste\n",
    "print(tukey)"
   ]
  },
  {
   "cell_type": "code",
   "execution_count": null,
   "id": "75562059",
   "metadata": {
    "ExecuteTime": {
     "end_time": "2022-10-12T21:46:54.286612Z",
     "start_time": "2022-10-12T21:46:54.282190Z"
    },
    "hidden": true
   },
   "outputs": [],
   "source": [
    "# Como interpretar o resultado:\n",
    "\n",
    "# P-value para a diferença nas médias entre a and b: .0251\n",
    "# P-value para a diferença nas médias entre a and c: .9867\n",
    "# P-value para a diferença nas médias entre a and d: .0001\n",
    "# P-value para a diferença nas médias entre b and c: .0482\n",
    "# P-value para a diferença nas médias entre b and d: .0296\n",
    "# P-value para a diferença nas médias entre c and d: .0001\n",
    "\n",
    "# Ou seja, existe uma diferença estatística significante apenas entre as médias de a e c."
   ]
  }
 ],
 "metadata": {
  "kernelspec": {
   "display_name": "Python 3 (ipykernel)",
   "language": "python",
   "name": "python3"
  },
  "language_info": {
   "codemirror_mode": {
    "name": "ipython",
    "version": 3
   },
   "file_extension": ".py",
   "mimetype": "text/x-python",
   "name": "python",
   "nbconvert_exporter": "python",
   "pygments_lexer": "ipython3",
   "version": "3.10.0"
  },
  "toc": {
   "base_numbering": 1,
   "nav_menu": {},
   "number_sections": true,
   "sideBar": true,
   "skip_h1_title": false,
   "title_cell": "Table of Contents",
   "title_sidebar": "Contents",
   "toc_cell": false,
   "toc_position": {},
   "toc_section_display": true,
   "toc_window_display": false
  },
  "varInspector": {
   "cols": {
    "lenName": 16,
    "lenType": 16,
    "lenVar": 40
   },
   "kernels_config": {
    "python": {
     "delete_cmd_postfix": "",
     "delete_cmd_prefix": "del ",
     "library": "var_list.py",
     "varRefreshCmd": "print(var_dic_list())"
    },
    "r": {
     "delete_cmd_postfix": ") ",
     "delete_cmd_prefix": "rm(",
     "library": "var_list.r",
     "varRefreshCmd": "cat(var_dic_list()) "
    }
   },
   "types_to_exclude": [
    "module",
    "function",
    "builtin_function_or_method",
    "instance",
    "_Feature"
   ],
   "window_display": false
  }
 },
 "nbformat": 4,
 "nbformat_minor": 5
}
