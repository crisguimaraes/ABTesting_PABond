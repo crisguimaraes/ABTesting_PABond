{
 "cells": [
  {
   "cell_type": "markdown",
   "id": "b84b3dab",
   "metadata": {
    "ExecuteTime": {
     "end_time": "2022-10-03T21:54:46.803013Z",
     "start_time": "2022-10-03T21:54:46.798212Z"
    },
    "heading_collapsed": true
   },
   "source": [
    "# *Introdução ao AB Testing* - PA Bond"
   ]
  },
  {
   "cell_type": "markdown",
   "id": "7aad833c",
   "metadata": {
    "heading_collapsed": true,
    "hidden": true
   },
   "source": [
    "## Detalhamento do Projeto"
   ]
  },
  {
   "cell_type": "markdown",
   "id": "408c5bd3",
   "metadata": {
    "heading_collapsed": true,
    "hidden": true
   },
   "source": [
    "### O problema de negócio"
   ]
  },
  {
   "cell_type": "markdown",
   "id": "bcd1641c",
   "metadata": {
    "hidden": true
   },
   "source": [
    " - A **Eletronic House** é um e-commerce de produtos de informática para casas e escritórios. Os clientes podem comprar mouses, monitores, teclados, computadores, laptops, entre outros, através de um site online e receber os produtos no conforto de suas casas.\n",
    " - Os produtos não são vendidos somente no Brasil, a Eletronic House está presente em diversos países da Europa e da América do Norte.\n",
    " - O diretor de produtos global pediu ao Head de Design que desenvolvesse uma nova forma de finalizar a compra com cartão de crédito, sem a necessidade de o cliente preencher manualmente todas as informações do cartão e que funcionasse em todos os países. \n",
    " - Depois de meses desenvolvendo esse dispositivo, o time de desenvolvimento BackEnd entregou uma solução de pagamentos, na qual 90% das informações do formulário eram preenchidas automaticamente.\n",
    " - O Head de Design gostaria de medir a efetividade do novo dispositivo de preenchimento automático dos dados do cartão e reportar os dados ao Diretor.\n",
    " - As duas páginas foram colocadas no ar durante alguns meses e o time de FrontEnd desenvolveu uma automação que atribuiu um rótulo para cada cliente, mostrando qual a página de vendas aquele determinado cliente estava vizualizando no momento da compra. Todos esses dados foram armazenados em um banco de dados e podem ser acessados pelos times da Eletronic House."
   ]
  },
  {
   "cell_type": "markdown",
   "id": "0e88310e",
   "metadata": {
    "heading_collapsed": true,
    "hidden": true
   },
   "source": [
    "### O desafio "
   ]
  },
  {
   "cell_type": "markdown",
   "id": "ed16fe58",
   "metadata": {
    "hidden": true
   },
   "source": [
    "- Depois de alguns meses de experimento, o time de Designers da Electronic House, precisa avaliar os resultados do experimento realizado, a fim de concluir qual era a forma de pagamento mais eficaz. Porém, o time não possui as habilidades necessárias para avaliar os dados e  concluir o experimento. Nesse contexto, você foi contratado como Cientista de  Dados para ajudar o time de Designers a validar a efetividade do novo meio de  pagamento, com mais confiança e rigidez na análise.\n",
    "- O entregável do seu trabalho é o seguinte:\n",
    "    **Qual a melhor forma de pagamento: Preenchimento Manual ou Automático do formulário de dados do cartão de crédito?**"
   ]
  },
  {
   "cell_type": "markdown",
   "id": "7be351b5",
   "metadata": {
    "heading_collapsed": true,
    "hidden": true
   },
   "source": [
    "## Planejamento da resolução"
   ]
  },
  {
   "cell_type": "markdown",
   "id": "03ce8e92",
   "metadata": {
    "heading_collapsed": true,
    "hidden": true
   },
   "source": [
    "### A Escolha do método"
   ]
  },
  {
   "cell_type": "markdown",
   "id": "1fd4b3db",
   "metadata": {
    "hidden": true
   },
   "source": [
    " - 01 - Teste de hipótese estatística: método de inferência estatística usado para decidir se os dados são suficientes para suportar uma hipótese particular.\n",
    " \n",
    " - 02 - AB_Testing: metodologia de pesquisa da experiência do usuário que aplica as hipotéses estatísticas para comparar duas ou mais versões de uma única variável, a fim de determinar qual das duas variantes é mais efetiva.\n",
    " \n",
    " "
   ]
  },
  {
   "cell_type": "markdown",
   "id": "75954ae1",
   "metadata": {
    "heading_collapsed": true,
    "hidden": true
   },
   "source": [
    "### Design do Experimento"
   ]
  },
  {
   "cell_type": "markdown",
   "id": "e50d976c",
   "metadata": {
    "hidden": true
   },
   "source": [
    "     1.2.1 Formulação das hipóteses\n",
    "     \n",
    "        - Definição da hipótese nula;\n",
    "        - Definição da hipótese alternativa;\n",
    "        - Escolha do tipo de teste: uma ou duas caudas;\n",
    "        - Definição do nível de confiança do experimento;\n",
    "        \n",
    "     1.2.2 Escolha da variável\n",
    "     \n",
    "        - Definição da métrica de avaliação (KPI) ou variável dependente;\n",
    "      \n",
    "     1.2.3 Separação dos grupos\n",
    "     \n",
    "        - Definição do tamanho da amostra de cada grupo;\n",
    "        - Separação do grupo de controle;\n",
    "        - separação do grupo de tratamento;\n",
    "        "
   ]
  },
  {
   "cell_type": "markdown",
   "id": "1b9f9e5d",
   "metadata": {
    "heading_collapsed": true,
    "hidden": true
   },
   "source": [
    "###  Coletando e preparando os dados"
   ]
  },
  {
   "cell_type": "markdown",
   "id": "ab047a8b",
   "metadata": {
    "hidden": true
   },
   "source": [
    "    1.3.1 Coleta dos dados\n",
    "    \n",
    "        - Definição da estrutura da coleta e armazenamento dos dados;\n",
    "        - Criação da flag do teste AB\n",
    "        - Escolha das ferramentas do teste AB\n",
    "        \n",
    "    1.3.2 Preparação dos dados\n",
    "    \n",
    "       - Definição;\n",
    "       - Limpeza e verificação dos dados;\n",
    "       \n",
    "    1.3.3 Conversão dos grupos\n",
    "    \n",
    "       - Cálculo da conversão do grupo controle;\n",
    "       - Cálculo da conversão do grupo de tratamento;"
   ]
  },
  {
   "cell_type": "markdown",
   "id": "a249a75a",
   "metadata": {
    "heading_collapsed": true,
    "hidden": true
   },
   "source": [
    "### Testando as hipóteses"
   ]
  },
  {
   "cell_type": "markdown",
   "id": "27239ff2",
   "metadata": {
    "hidden": true
   },
   "source": [
    "    1.4.1 Definição do método de inferência estatística;\n",
    "    \n",
    "       - t-Teste\n",
    "       - ANOVA\n",
    "       - Chi-Squared\n",
    "       \n",
    "    1.4.2 Cálculo do p-valor\n",
    "    \n",
    "    "
   ]
  },
  {
   "cell_type": "markdown",
   "id": "db277ae6",
   "metadata": {
    "heading_collapsed": true,
    "hidden": true
   },
   "source": [
    "### Tirando as conclusões"
   ]
  },
  {
   "cell_type": "markdown",
   "id": "6b3bfe11",
   "metadata": {
    "hidden": true
   },
   "source": [
    "    - Interpretação do p-valor;\n",
    "    - Validação das hipóteses iniciais;\n",
    "    - Conclusão: \n",
    "            1 - A página A é melhor que a página B\n",
    "            2 - A diferença de conversão: pelos dados disponíveis, não tenho como dizer se é efeito da página;\n",
    "    - Cálculo do número de vendas potencial;\n",
    "    - Cálculo do faturamento potencial;"
   ]
  },
  {
   "cell_type": "markdown",
   "id": "198813e3",
   "metadata": {
    "heading_collapsed": true
   },
   "source": [
    "# Formulando as Hipóteses"
   ]
  },
  {
   "cell_type": "markdown",
   "id": "0da7d426",
   "metadata": {
    "heading_collapsed": true,
    "hidden": true
   },
   "source": [
    "### Hipóteses"
   ]
  },
  {
   "cell_type": "markdown",
   "id": "4e6ac69e",
   "metadata": {
    "hidden": true
   },
   "source": [
    "Dado que nós não sabemos se o nosso design irá perfomar melhor ou pior (ou igual?) do que o design atual, nós escolhemos o teste BICAUDAL\n",
    "\n",
    "\n",
    "- **H0**: avg purchases do grupo A = avg purchases do grupo b\n",
    "\n",
    "\n",
    "- **H1**: avg purchases do grupo A = avg purchases do grupo b\n",
    "\n",
    "**onde avg purchases** = número de compras médio"
   ]
  },
  {
   "cell_type": "markdown",
   "id": "4b01ddda",
   "metadata": {
    "heading_collapsed": true,
    "hidden": true
   },
   "source": [
    "### Nível de confiança de 95% alpha = 0,05"
   ]
  },
  {
   "cell_type": "markdown",
   "id": "656b79dd",
   "metadata": {
    "hidden": true
   },
   "source": [
    "   - o valor de alpha é uma linha de corte que nós estabelecemos, pela qual nós dizemos: 'se a possibilidade de observar um resultado extremo ou mais (p-valor) for menor que alpha, então rejeitamos a hipótese nula alpha = 0,05 (5% de probabilidade)\n",
    "     \n",
    "   - Nós queremos estar 95% confiantes de que o número médio de compras de cada página é estatísticamente diferente um do outro, antes de rejeitar a hipótese nula;"
   ]
  },
  {
   "cell_type": "markdown",
   "id": "9dc3a4c1",
   "metadata": {
    "heading_collapsed": true
   },
   "source": [
    "# Escolhendo as variáveis"
   ]
  },
  {
   "cell_type": "markdown",
   "id": "fcb64bf1",
   "metadata": {
    "hidden": true
   },
   "source": [
    " - Para o nosso teste, nós precisamos de 2 grupos:  \n",
    " \n",
    "      **um grupo controle (grupo A):** eles verão o preenchimento automático do pagamento;\n",
    "      \n",
    "      **um grupo de tratamento (grupo B):** eles verão o preenchimento manual do pagamento;  \n",
    "      \n",
    " \n",
    " - Além disso, nosso dataset é subdividido em clientes dos **gêneros M e F** e que fizeram compras pelo **site (I) e pelo App (A)**.\n",
    " \n",
    " \n",
    " - Para nossa variável dependente Y, nós estamos interessados nas compras (**purchase**) e nos gastos (**spent**) dos clientes. \n",
    " \n",
    " \n",
    " - É interessante ressaltar uma informação retirada do artigo \"Controlled experiments on the web: survey and pratical guide\". Nele estão descritos os 4 fatores que afetam o teste AB: **nível de confiança, power, erro padrão e tamanho do efeito**. O erro padrão, por sua vez, pode ser reduzido de 3 maneiras: aumentado o número de amostras, **usando métricas que inerentemente tenham menor variabilidade** e filtrando usuários que não foram expostos à variante mas ainda foram incluídos na métrica. No caso do nosso dataset, a métrica mais interessante, dentro desse ponto de vista, seria a **purchases**, por ser uma métrica com menor variabilidade que a **spent**. Por esta razão esta será a métrica que iremos utilizar.  \n"
   ]
  },
  {
   "cell_type": "markdown",
   "id": "0bdb0594",
   "metadata": {
    "heading_collapsed": true
   },
   "source": [
    "# Escolhendo o tamanho da amostra"
   ]
  },
  {
   "cell_type": "markdown",
   "id": "693a47fe",
   "metadata": {
    "hidden": true
   },
   "source": [
    "- É interessante notar que, como nós não testaremos toda a nossa base de usuários (nossa população), o resultado  que nós temos será inevitavelmente apenas uma estimativa do valor verdadeiro.\n",
    "\n",
    "- O número de pessoas que nós decidirmos capturar em cada grupo terá um efeito na precisão da nossa estimativa: quanto maior o tamanho da amostra, mais precisa será nossa estimativa (i.e. menor o nosso intervalo de confiança) e maior a chance de detectar uma diferença entre os dois grupos, se houver. Por outro lado, quanto maior a nossa amostra, mais caro (e impraticável) nosso estudo se torna.\n",
    "\n",
    "- Então, quantas pessoas deveríamos ter em cada grupo? O tamanho da amostra que precisamos é estimado através de algo chamado POWER ANALYSIS, e isso depende alguns fatores:\n",
    "\n",
    "    - **POWER OF TEST:** (1 - Beta) Representa a probabilidade de encontrar uma diferença estatística entre os grupos em nosso teste quando a diferença está de fato presente. Ele é usualmente setado em 0.8 por conversão; Setar este parâmetro em 0.8, na prática, significa que se existe uma diferença real na taxa de conversão entre nossos designs, supondo que a diferença seja a que estimamos (13% e 15%), temos cerca de 80% de chance de detectá-la como estatísticamente significativa em nosso teste com o tamanho de amostra que vamos calcular.\n",
    "    \n",
    "    - **ALPHA VALUE:** (alpha) Valor crítico que setamos anteriormente em 0.05. Nível de significância - significa que temos 5% de chance de tomar uma decisão errada (eu tenho evidências sufucuentes para observar o efeito sendo que o efeito não está no intervalo).\n",
    "    \n",
    "    - **EFFECT SIZE:** Quanta diferença esperamos que haja entre as taxas de conversão. Como nosso time ficaria feliz com uma diferença de 2%, nós podemos usar 13 e 15% para calcular o tamanho do efeito que nós esperamos;\n",
    "    \n",
    "    - **ERRO PADRÃO:** Quanto menor esse erro, mais poderoso é o teste. (sigma/raiz de n) sendo sigma o desvio padrão estimado e n o número de amostras."
   ]
  },
  {
   "cell_type": "markdown",
   "id": "480cee65",
   "metadata": {},
   "source": [
    "# Escrevendo o código do tamanho da amostra"
   ]
  },
  {
   "cell_type": "markdown",
   "id": "37f8fb35",
   "metadata": {
    "heading_collapsed": true
   },
   "source": [
    "## Libraries"
   ]
  },
  {
   "cell_type": "code",
   "execution_count": 1,
   "id": "2cae5d51",
   "metadata": {
    "ExecuteTime": {
     "end_time": "2022-10-23T17:37:23.210370Z",
     "start_time": "2022-10-23T17:37:19.756118Z"
    },
    "hidden": true
   },
   "outputs": [],
   "source": [
    "import numpy as np\n",
    "import pandas as pd\n",
    "import statsmodels.stats.api as sms\n",
    "import statsmodels.stats as stats\n",
    "import matplotlib.pyplot as plt\n",
    "import seaborn as sns\n",
    "from scipy import stats\n",
    "from math import ceil\n",
    "from statsmodels.stats.power import tt_ind_solve_power\n",
    "\n",
    "%matplotlib inline"
   ]
  },
  {
   "cell_type": "markdown",
   "id": "4e5602c5",
   "metadata": {
    "heading_collapsed": true
   },
   "source": [
    "## Calculando o tamanho da amostra \n",
    "(**Obs1:** Esta etapa seria feita no caso de os dados ainda não terem sido coletados - Design de Experimento)\n",
    "\n",
    "\n",
    "(**Obs2:** Inicialmente faremos a análise apenas para o Brasil, mas, obviamente, a sequencia de passos é a mesma para cada um dos países do dataset e será feita posteriormente)"
   ]
  },
  {
   "cell_type": "markdown",
   "id": "6ea66195",
   "metadata": {
    "heading_collapsed": true,
    "hidden": true
   },
   "source": [
    "### Brasil   \n"
   ]
  },
  {
   "cell_type": "code",
   "execution_count": 39,
   "id": "85f26403",
   "metadata": {
    "ExecuteTime": {
     "end_time": "2022-10-23T18:20:29.753801Z",
     "start_time": "2022-10-23T18:20:29.743493Z"
    },
    "hidden": true
   },
   "outputs": [
    {
     "data": {
      "text/plain": [
       "0.07262203752364287"
      ]
     },
     "execution_count": 39,
     "metadata": {},
     "output_type": "execute_result"
    }
   ],
   "source": [
    "# Effect Size (Brasil)\n",
    "\n",
    "init_metric = 4.576757\n",
    "end_metric = (init_metric * 1.05)\n",
    "std_metric = 3.151080\n",
    "\n",
    "effect_size = (end_metric - init_metric) / std_metric\n",
    "effect_size"
   ]
  },
  {
   "cell_type": "code",
   "execution_count": 40,
   "id": "b6d3d089",
   "metadata": {
    "ExecuteTime": {
     "end_time": "2022-10-23T18:20:37.685496Z",
     "start_time": "2022-10-23T18:20:37.669039Z"
    },
    "hidden": true
   },
   "outputs": [],
   "source": [
    "#calculando o tamanho da amostra requerida (Brasil)\n",
    "\n",
    "required_n = tt_ind_solve_power(\n",
    "              effect_size = effect_size,\n",
    "              power = 0.8,\n",
    "              alpha = 0.05,\n",
    "              ratio=1) \n",
    "\n",
    "required_n = (np.ceil(required_n)).astype(int) #arredondando para o próximo número inteiro"
   ]
  },
  {
   "cell_type": "code",
   "execution_count": 41,
   "id": "3a793263",
   "metadata": {
    "ExecuteTime": {
     "end_time": "2022-10-23T18:20:39.158257Z",
     "start_time": "2022-10-23T18:20:39.138108Z"
    },
    "hidden": true
   },
   "outputs": [
    {
     "name": "stdout",
     "output_type": "stream",
     "text": [
      "o número de amostras para o grupo controle no dataset \"Brasil\" é: 2978\n",
      "o número de amostras para o grupo de tratamento no dataset \"Brasil\" é: 2978\n"
     ]
    }
   ],
   "source": [
    "# Mostrando o tamanho de amostra para cada grupo\n",
    "\n",
    "print(f'o número de amostras para o grupo controle no dataset \"Brasil\" é: {required_n}')\n",
    "print(f'o número de amostras para o grupo de tratamento no dataset \"Brasil\" é: {required_n}')"
   ]
  },
  {
   "cell_type": "code",
   "execution_count": null,
   "id": "fed6edc7",
   "metadata": {
    "ExecuteTime": {
     "end_time": "2022-10-23T12:24:16.883383Z",
     "start_time": "2022-10-23T12:24:16.877092Z"
    },
    "hidden": true
   },
   "outputs": [],
   "source": [
    "# Para realizar o cálculo acima, foi utilizada toda a população do dataframe com os dados referentes apenas ao Brasil.\n",
    "# Com o dataset filtrado, calculou-se a média, o desvio padrão e a variancia da coluna 'purchases':\n",
    "\n",
    "# df = pd.read_csv('ab_testing.csv')\n",
    "# df1 = df.loc[df['country'] == 'BRA', :]\n",
    "# df1['purchases'].agg(['mean', 'std', 'var'])\n",
    "\n",
    "    # mean    4.576757\n",
    "    # std     3.151080\n",
    "    # var     9.929304\n",
    "\n",
    "# Esses dados foram usados na formula do effect_size acima"
   ]
  },
  {
   "cell_type": "code",
   "execution_count": 42,
   "id": "8075f779",
   "metadata": {
    "ExecuteTime": {
     "end_time": "2022-10-23T18:22:31.381977Z",
     "start_time": "2022-10-23T18:22:31.369070Z"
    },
    "hidden": true
   },
   "outputs": [
    {
     "name": "stdout",
     "output_type": "stream",
     "text": [
      "O sample_size para cada grupo é: 3034\n"
     ]
    }
   ],
   "source": [
    "# Para confirmar o resultado acima, podemos calcular o tamanho de amostra com a formula descrita no artigo\n",
    "\n",
    "sigma = 9.929304   #variância\n",
    "delta = (4.576757 * 0.05)  #sensitividade (tamanho do aumento que queremos ver - 5% da média)\n",
    "\n",
    "sample_size = (16*(sigma))/((delta)**2)\n",
    "sample_size = (np.ceil(sample_size)).astype(int)\n",
    "print(f'O sample_size para cada grupo é: {sample_size}')"
   ]
  },
  {
   "cell_type": "code",
   "execution_count": null,
   "id": "35a62b9b",
   "metadata": {
    "ExecuteTime": {
     "end_time": "2022-10-23T12:48:27.098509Z",
     "start_time": "2022-10-23T12:48:27.090818Z"
    },
    "hidden": true
   },
   "outputs": [],
   "source": [
    "# Encontrado o tamanho da amostra, temos que saber se temos amostras suficientes em cada grupo, no dataset \"Brasil\". Para isso, fizemos um groupby como se segue:\n",
    "\n",
    "# df1[['uid','group']].groupby('group').count().reset_index() \n",
    "\n",
    "    # \tgroup\tuid\n",
    "    #0\tGRP A\t4518\n",
    "    #1\tGRP B\t4491"
   ]
  },
  {
   "cell_type": "markdown",
   "id": "46227710",
   "metadata": {
    "heading_collapsed": true,
    "hidden": true
   },
   "source": [
    "### Espanha\n",
    "\n",
    "- O dataset não tem o mínimo de amostras suficiente para fazer o teste com uma sensitividade (delta) de 5%.\n",
    "- Daria pra fazer com uma sensitividade maior (por exemplo 10%)"
   ]
  },
  {
   "cell_type": "code",
   "execution_count": null,
   "id": "48a4fca7",
   "metadata": {
    "ExecuteTime": {
     "end_time": "2022-10-23T17:17:44.682999Z",
     "start_time": "2022-10-23T17:17:44.672837Z"
    },
    "hidden": true
   },
   "outputs": [],
   "source": [
    "# Effect Size (Espanha)\n",
    "\n",
    "#init_metric = \n",
    "#end_metric = (init_metric * 1.05)\n",
    "#std_metric = \n",
    "\n",
    "#effect_size = (end_metric - init_metric) / std_metric\n",
    "#effect_size"
   ]
  },
  {
   "cell_type": "code",
   "execution_count": null,
   "id": "bca60254",
   "metadata": {
    "ExecuteTime": {
     "end_time": "2022-10-23T17:17:52.281989Z",
     "start_time": "2022-10-23T17:17:52.257944Z"
    },
    "hidden": true
   },
   "outputs": [],
   "source": [
    "#calculando o tamanho da amostra requerida (Espanha)\n",
    "\n",
    "#required_n = tt_ind_solve_power(\n",
    "#              effect_size = effect_size,\n",
    "#              power = 0.8,\n",
    "#              alpha = 0.05,\n",
    "#              ratio=1) \n",
    "\n",
    "#required_n = (np.ceil(required_n)).astype(int) #arredondando para o próximo número inteiro"
   ]
  },
  {
   "cell_type": "code",
   "execution_count": null,
   "id": "8152f482",
   "metadata": {
    "ExecuteTime": {
     "end_time": "2022-10-23T17:18:10.118593Z",
     "start_time": "2022-10-23T17:18:10.111895Z"
    },
    "hidden": true
   },
   "outputs": [],
   "source": [
    "# Mostrando o tamanho de amostra para cada grupo\n",
    "\n",
    "#print(f'o número de amostras para o grupo controle no dataset \"Espanha\" é: {required_n}')\n",
    "#print(f'o número de amostras para o grupo de tratamento no dataset \"Espanha\" é: {required_n}')"
   ]
  },
  {
   "cell_type": "markdown",
   "id": "385d0b40",
   "metadata": {},
   "source": [
    "# Coletando e preparando os dados "
   ]
  },
  {
   "cell_type": "markdown",
   "id": "1ef3385f",
   "metadata": {},
   "source": [
    "- Agora que temos nosso tamanho de amostra necessário, nós temos que coletar os dados. Normalmente neste ponto, você trabalhará com seu time para configurar o experimento e provavelmente com a ajuda do time de engenharia e se certificaria de coletar dados suficientes com base no tamanho da amostra necessária.\n",
    "\n",
    "- Aqui, vamos simular a situação:\n",
    "    - Baixar o dataset do Drive\n",
    "    - Ler os dados como um pandas dataframe\n",
    "    - Checar e limpar os dados, se necessário\n",
    "    - Aleatoriamente amostrar 2978 linhas do dataframe para cada grupo (Brasil)\n",
    "    \n",
    "- **NOTA**: Normalmente nós não necessitaríamos do passo 4, isto é apenas por causa do exercício. "
   ]
  },
  {
   "cell_type": "markdown",
   "id": "961eac02",
   "metadata": {},
   "source": [
    "## Ler os dados em um pandas dataframe"
   ]
  },
  {
   "cell_type": "code",
   "execution_count": 43,
   "id": "89132aee",
   "metadata": {
    "ExecuteTime": {
     "end_time": "2022-10-23T18:25:02.705066Z",
     "start_time": "2022-10-23T18:25:02.633060Z"
    }
   },
   "outputs": [
    {
     "data": {
      "text/html": [
       "<div>\n",
       "<style scoped>\n",
       "    .dataframe tbody tr th:only-of-type {\n",
       "        vertical-align: middle;\n",
       "    }\n",
       "\n",
       "    .dataframe tbody tr th {\n",
       "        vertical-align: top;\n",
       "    }\n",
       "\n",
       "    .dataframe thead th {\n",
       "        text-align: right;\n",
       "    }\n",
       "</style>\n",
       "<table border=\"1\" class=\"dataframe\">\n",
       "  <thead>\n",
       "    <tr style=\"text-align: right;\">\n",
       "      <th></th>\n",
       "      <th>uid</th>\n",
       "      <th>country</th>\n",
       "      <th>gender</th>\n",
       "      <th>spent</th>\n",
       "      <th>purchases</th>\n",
       "      <th>date</th>\n",
       "      <th>group</th>\n",
       "      <th>device</th>\n",
       "    </tr>\n",
       "  </thead>\n",
       "  <tbody>\n",
       "    <tr>\n",
       "      <th>0</th>\n",
       "      <td>11115722</td>\n",
       "      <td>MEX</td>\n",
       "      <td>F</td>\n",
       "      <td>1595</td>\n",
       "      <td>5</td>\n",
       "      <td>2016-03-08</td>\n",
       "      <td>GRP B</td>\n",
       "      <td>I</td>\n",
       "    </tr>\n",
       "    <tr>\n",
       "      <th>1</th>\n",
       "      <td>11122053</td>\n",
       "      <td>USA</td>\n",
       "      <td>M</td>\n",
       "      <td>498</td>\n",
       "      <td>2</td>\n",
       "      <td>2017-07-14</td>\n",
       "      <td>GRP B</td>\n",
       "      <td>I</td>\n",
       "    </tr>\n",
       "    <tr>\n",
       "      <th>2</th>\n",
       "      <td>11128688</td>\n",
       "      <td>USA</td>\n",
       "      <td>F</td>\n",
       "      <td>2394</td>\n",
       "      <td>6</td>\n",
       "      <td>2017-09-17</td>\n",
       "      <td>GRP A</td>\n",
       "      <td>I</td>\n",
       "    </tr>\n",
       "    <tr>\n",
       "      <th>3</th>\n",
       "      <td>11130578</td>\n",
       "      <td>USA</td>\n",
       "      <td>F</td>\n",
       "      <td>1197</td>\n",
       "      <td>3</td>\n",
       "      <td>2017-11-30</td>\n",
       "      <td>GRP A</td>\n",
       "      <td>I</td>\n",
       "    </tr>\n",
       "    <tr>\n",
       "      <th>4</th>\n",
       "      <td>11130759</td>\n",
       "      <td>ESP</td>\n",
       "      <td>M</td>\n",
       "      <td>1297</td>\n",
       "      <td>3</td>\n",
       "      <td>2018-01-10</td>\n",
       "      <td>GRP B</td>\n",
       "      <td>A</td>\n",
       "    </tr>\n",
       "  </tbody>\n",
       "</table>\n",
       "</div>"
      ],
      "text/plain": [
       "        uid country gender  spent  purchases        date  group device\n",
       "0  11115722     MEX      F   1595          5  2016-03-08  GRP B      I\n",
       "1  11122053     USA      M    498          2  2017-07-14  GRP B      I\n",
       "2  11128688     USA      F   2394          6  2017-09-17  GRP A      I\n",
       "3  11130578     USA      F   1197          3  2017-11-30  GRP A      I\n",
       "4  11130759     ESP      M   1297          3  2018-01-10  GRP B      A"
      ]
     },
     "execution_count": 43,
     "metadata": {},
     "output_type": "execute_result"
    }
   ],
   "source": [
    "df = pd.read_csv('ab_testing.csv')\n",
    "df.head()"
   ]
  },
  {
   "cell_type": "code",
   "execution_count": 44,
   "id": "9b6562bd",
   "metadata": {
    "ExecuteTime": {
     "end_time": "2022-10-23T18:25:05.476367Z",
     "start_time": "2022-10-23T18:25:05.462622Z"
    }
   },
   "outputs": [
    {
     "data": {
      "text/plain": [
       "array(['MEX', 'USA', 'ESP', 'GBR', 'TUR', 'DEU', 'BRA', 'FRA', 'AUS',\n",
       "       'CAN'], dtype=object)"
      ]
     },
     "execution_count": 44,
     "metadata": {},
     "output_type": "execute_result"
    }
   ],
   "source": [
    "# Identificando quais são os países do dataset\n",
    "\n",
    "df['country'].unique()"
   ]
  },
  {
   "cell_type": "markdown",
   "id": "1adbd343",
   "metadata": {},
   "source": [
    "## Separando os dados por país"
   ]
  },
  {
   "cell_type": "code",
   "execution_count": 45,
   "id": "dbbb1f52",
   "metadata": {
    "ExecuteTime": {
     "end_time": "2022-10-23T18:25:11.564633Z",
     "start_time": "2022-10-23T18:25:11.542657Z"
    }
   },
   "outputs": [
    {
     "data": {
      "text/plain": [
       "(9009, 8)"
      ]
     },
     "execution_count": 45,
     "metadata": {},
     "output_type": "execute_result"
    }
   ],
   "source": [
    "country_name = 'BRA'\n",
    "df1 = df.loc[df['country'] == country_name, :]\n",
    "df1.shape"
   ]
  },
  {
   "cell_type": "code",
   "execution_count": 46,
   "id": "020bc68b",
   "metadata": {
    "ExecuteTime": {
     "end_time": "2022-10-23T18:25:14.046820Z",
     "start_time": "2022-10-23T18:25:14.017158Z"
    }
   },
   "outputs": [
    {
     "data": {
      "text/plain": [
       "mean    4.576757\n",
       "std     3.151080\n",
       "var     9.929304\n",
       "Name: purchases, dtype: float64"
      ]
     },
     "execution_count": 46,
     "metadata": {},
     "output_type": "execute_result"
    }
   ],
   "source": [
    "df1['purchases'].agg(['mean', 'std', 'var'])"
   ]
  },
  {
   "cell_type": "code",
   "execution_count": 47,
   "id": "73691bee",
   "metadata": {
    "ExecuteTime": {
     "end_time": "2022-10-23T18:25:16.332020Z",
     "start_time": "2022-10-23T18:25:16.309570Z"
    }
   },
   "outputs": [
    {
     "data": {
      "text/html": [
       "<div>\n",
       "<style scoped>\n",
       "    .dataframe tbody tr th:only-of-type {\n",
       "        vertical-align: middle;\n",
       "    }\n",
       "\n",
       "    .dataframe tbody tr th {\n",
       "        vertical-align: top;\n",
       "    }\n",
       "\n",
       "    .dataframe thead th {\n",
       "        text-align: right;\n",
       "    }\n",
       "</style>\n",
       "<table border=\"1\" class=\"dataframe\">\n",
       "  <thead>\n",
       "    <tr style=\"text-align: right;\">\n",
       "      <th></th>\n",
       "      <th>group</th>\n",
       "      <th>uid</th>\n",
       "    </tr>\n",
       "  </thead>\n",
       "  <tbody>\n",
       "    <tr>\n",
       "      <th>0</th>\n",
       "      <td>GRP A</td>\n",
       "      <td>4518</td>\n",
       "    </tr>\n",
       "    <tr>\n",
       "      <th>1</th>\n",
       "      <td>GRP B</td>\n",
       "      <td>4491</td>\n",
       "    </tr>\n",
       "  </tbody>\n",
       "</table>\n",
       "</div>"
      ],
      "text/plain": [
       "   group   uid\n",
       "0  GRP A  4518\n",
       "1  GRP B  4491"
      ]
     },
     "execution_count": 47,
     "metadata": {},
     "output_type": "execute_result"
    }
   ],
   "source": [
    "df1[['uid','group']].groupby('group').count().reset_index() "
   ]
  },
  {
   "cell_type": "markdown",
   "id": "cfdb423b",
   "metadata": {},
   "source": [
    "# Realizando uma EDA para verificar a homogeneidade dos dados"
   ]
  },
  {
   "cell_type": "markdown",
   "id": "25861831",
   "metadata": {},
   "source": [
    "- Como vamos fazer uma amostragem do dataset, precisamos verificar a homogeinidade dos dados em cada grupo quanto ao genêro, às compras, aos dispositivos utilizados e aos gastos, para garantir que a única fonte de variação do teste seja a página."
   ]
  },
  {
   "cell_type": "markdown",
   "id": "850db273",
   "metadata": {
    "heading_collapsed": true
   },
   "source": [
    "### Verificando os tipos de dados e presença de dados nulos"
   ]
  },
  {
   "cell_type": "code",
   "execution_count": 48,
   "id": "3d5b02a6",
   "metadata": {
    "ExecuteTime": {
     "end_time": "2022-10-23T18:25:37.385814Z",
     "start_time": "2022-10-23T18:25:37.363731Z"
    },
    "hidden": true
   },
   "outputs": [
    {
     "name": "stdout",
     "output_type": "stream",
     "text": [
      "<class 'pandas.core.frame.DataFrame'>\n",
      "Int64Index: 9009 entries, 12 to 45880\n",
      "Data columns (total 8 columns):\n",
      " #   Column     Non-Null Count  Dtype \n",
      "---  ------     --------------  ----- \n",
      " 0   uid        9009 non-null   int64 \n",
      " 1   country    9009 non-null   object\n",
      " 2   gender     9009 non-null   object\n",
      " 3   spent      9009 non-null   int64 \n",
      " 4   purchases  9009 non-null   int64 \n",
      " 5   date       9009 non-null   object\n",
      " 6   group      9009 non-null   object\n",
      " 7   device     9009 non-null   object\n",
      "dtypes: int64(3), object(5)\n",
      "memory usage: 633.4+ KB\n"
     ]
    }
   ],
   "source": [
    "df1.info() "
   ]
  },
  {
   "cell_type": "markdown",
   "id": "b65e6ea4",
   "metadata": {
    "heading_collapsed": true
   },
   "source": [
    "### Verificando se existem usuários repetidos"
   ]
  },
  {
   "cell_type": "code",
   "execution_count": 49,
   "id": "ec5ebea7",
   "metadata": {
    "ExecuteTime": {
     "end_time": "2022-10-23T18:25:42.737519Z",
     "start_time": "2022-10-23T18:25:42.727173Z"
    },
    "hidden": true
   },
   "outputs": [
    {
     "data": {
      "text/plain": [
       "0"
      ]
     },
     "execution_count": 49,
     "metadata": {},
     "output_type": "execute_result"
    }
   ],
   "source": [
    "# Para checar se cada usuário viu apenas uma página\n",
    "\n",
    "len(df1['uid'])-len(df1['uid'].drop_duplicates())"
   ]
  },
  {
   "cell_type": "markdown",
   "id": "cd26eae0",
   "metadata": {
    "heading_collapsed": true
   },
   "source": [
    "### Calculando a homogeinidade dos genêros em cada grupo"
   ]
  },
  {
   "cell_type": "code",
   "execution_count": 50,
   "id": "6dc155bb",
   "metadata": {
    "ExecuteTime": {
     "end_time": "2022-10-23T18:25:48.952418Z",
     "start_time": "2022-10-23T18:25:48.926708Z"
    },
    "hidden": true
   },
   "outputs": [
    {
     "data": {
      "text/html": [
       "<div>\n",
       "<style scoped>\n",
       "    .dataframe tbody tr th:only-of-type {\n",
       "        vertical-align: middle;\n",
       "    }\n",
       "\n",
       "    .dataframe tbody tr th {\n",
       "        vertical-align: top;\n",
       "    }\n",
       "\n",
       "    .dataframe thead th {\n",
       "        text-align: right;\n",
       "    }\n",
       "</style>\n",
       "<table border=\"1\" class=\"dataframe\">\n",
       "  <thead>\n",
       "    <tr style=\"text-align: right;\">\n",
       "      <th></th>\n",
       "      <th>group</th>\n",
       "      <th>gender</th>\n",
       "      <th>uid</th>\n",
       "    </tr>\n",
       "  </thead>\n",
       "  <tbody>\n",
       "    <tr>\n",
       "      <th>0</th>\n",
       "      <td>GRP A</td>\n",
       "      <td>F</td>\n",
       "      <td>2213</td>\n",
       "    </tr>\n",
       "    <tr>\n",
       "      <th>1</th>\n",
       "      <td>GRP A</td>\n",
       "      <td>M</td>\n",
       "      <td>2305</td>\n",
       "    </tr>\n",
       "    <tr>\n",
       "      <th>2</th>\n",
       "      <td>GRP B</td>\n",
       "      <td>F</td>\n",
       "      <td>2208</td>\n",
       "    </tr>\n",
       "    <tr>\n",
       "      <th>3</th>\n",
       "      <td>GRP B</td>\n",
       "      <td>M</td>\n",
       "      <td>2283</td>\n",
       "    </tr>\n",
       "  </tbody>\n",
       "</table>\n",
       "</div>"
      ],
      "text/plain": [
       "   group gender   uid\n",
       "0  GRP A      F  2213\n",
       "1  GRP A      M  2305\n",
       "2  GRP B      F  2208\n",
       "3  GRP B      M  2283"
      ]
     },
     "execution_count": 50,
     "metadata": {},
     "output_type": "execute_result"
    }
   ],
   "source": [
    "df1_gender_group = df1[['uid','gender','group']].groupby(['group','gender']).count().reset_index()\n",
    "df1_gender_group"
   ]
  },
  {
   "cell_type": "markdown",
   "id": "dccc910a",
   "metadata": {
    "heading_collapsed": true
   },
   "source": [
    "### Calculando a homogeinidade dos grupos em cada dispositivo"
   ]
  },
  {
   "cell_type": "code",
   "execution_count": 51,
   "id": "10615451",
   "metadata": {
    "ExecuteTime": {
     "end_time": "2022-10-23T18:25:53.979212Z",
     "start_time": "2022-10-23T18:25:53.949421Z"
    },
    "hidden": true
   },
   "outputs": [
    {
     "data": {
      "text/html": [
       "<div>\n",
       "<style scoped>\n",
       "    .dataframe tbody tr th:only-of-type {\n",
       "        vertical-align: middle;\n",
       "    }\n",
       "\n",
       "    .dataframe tbody tr th {\n",
       "        vertical-align: top;\n",
       "    }\n",
       "\n",
       "    .dataframe thead th {\n",
       "        text-align: right;\n",
       "    }\n",
       "</style>\n",
       "<table border=\"1\" class=\"dataframe\">\n",
       "  <thead>\n",
       "    <tr style=\"text-align: right;\">\n",
       "      <th></th>\n",
       "      <th>group</th>\n",
       "      <th>device</th>\n",
       "      <th>uid</th>\n",
       "    </tr>\n",
       "  </thead>\n",
       "  <tbody>\n",
       "    <tr>\n",
       "      <th>0</th>\n",
       "      <td>GRP A</td>\n",
       "      <td>A</td>\n",
       "      <td>2208</td>\n",
       "    </tr>\n",
       "    <tr>\n",
       "      <th>1</th>\n",
       "      <td>GRP A</td>\n",
       "      <td>I</td>\n",
       "      <td>2310</td>\n",
       "    </tr>\n",
       "    <tr>\n",
       "      <th>2</th>\n",
       "      <td>GRP B</td>\n",
       "      <td>A</td>\n",
       "      <td>2284</td>\n",
       "    </tr>\n",
       "    <tr>\n",
       "      <th>3</th>\n",
       "      <td>GRP B</td>\n",
       "      <td>I</td>\n",
       "      <td>2207</td>\n",
       "    </tr>\n",
       "  </tbody>\n",
       "</table>\n",
       "</div>"
      ],
      "text/plain": [
       "   group device   uid\n",
       "0  GRP A      A  2208\n",
       "1  GRP A      I  2310\n",
       "2  GRP B      A  2284\n",
       "3  GRP B      I  2207"
      ]
     },
     "execution_count": 51,
     "metadata": {},
     "output_type": "execute_result"
    }
   ],
   "source": [
    "df1_device_group = df1[['uid','device','group']].groupby(['group','device']).count().reset_index()\n",
    "df1_device_group"
   ]
  },
  {
   "cell_type": "markdown",
   "id": "218a495d",
   "metadata": {
    "heading_collapsed": true
   },
   "source": [
    "### Calculando a media de compras por gênero"
   ]
  },
  {
   "cell_type": "code",
   "execution_count": 69,
   "id": "b9df3cac",
   "metadata": {
    "ExecuteTime": {
     "end_time": "2022-10-23T20:37:10.429793Z",
     "start_time": "2022-10-23T20:37:10.417288Z"
    },
    "hidden": true
   },
   "outputs": [
    {
     "data": {
      "text/html": [
       "<div>\n",
       "<style scoped>\n",
       "    .dataframe tbody tr th:only-of-type {\n",
       "        vertical-align: middle;\n",
       "    }\n",
       "\n",
       "    .dataframe tbody tr th {\n",
       "        vertical-align: top;\n",
       "    }\n",
       "\n",
       "    .dataframe thead th {\n",
       "        text-align: right;\n",
       "    }\n",
       "</style>\n",
       "<table border=\"1\" class=\"dataframe\">\n",
       "  <thead>\n",
       "    <tr style=\"text-align: right;\">\n",
       "      <th></th>\n",
       "      <th>gender</th>\n",
       "      <th>purchases</th>\n",
       "    </tr>\n",
       "  </thead>\n",
       "  <tbody>\n",
       "    <tr>\n",
       "      <th>0</th>\n",
       "      <td>F</td>\n",
       "      <td>4.601448</td>\n",
       "    </tr>\n",
       "    <tr>\n",
       "      <th>1</th>\n",
       "      <td>M</td>\n",
       "      <td>4.552964</td>\n",
       "    </tr>\n",
       "  </tbody>\n",
       "</table>\n",
       "</div>"
      ],
      "text/plain": [
       "  gender  purchases\n",
       "0      F   4.601448\n",
       "1      M   4.552964"
      ]
     },
     "execution_count": 69,
     "metadata": {},
     "output_type": "execute_result"
    }
   ],
   "source": [
    "df1_gender_purchase = df1[['purchases', 'gender']].groupby('gender').mean().reset_index()\n",
    "df1_gender_purchase"
   ]
  },
  {
   "cell_type": "markdown",
   "id": "152e3aa1",
   "metadata": {
    "heading_collapsed": true
   },
   "source": [
    "### Calculando a media de compras por grupo"
   ]
  },
  {
   "cell_type": "code",
   "execution_count": 70,
   "id": "685771fe",
   "metadata": {
    "ExecuteTime": {
     "end_time": "2022-10-23T20:39:06.780451Z",
     "start_time": "2022-10-23T20:39:06.762491Z"
    },
    "hidden": true
   },
   "outputs": [
    {
     "data": {
      "text/html": [
       "<div>\n",
       "<style scoped>\n",
       "    .dataframe tbody tr th:only-of-type {\n",
       "        vertical-align: middle;\n",
       "    }\n",
       "\n",
       "    .dataframe tbody tr th {\n",
       "        vertical-align: top;\n",
       "    }\n",
       "\n",
       "    .dataframe thead th {\n",
       "        text-align: right;\n",
       "    }\n",
       "</style>\n",
       "<table border=\"1\" class=\"dataframe\">\n",
       "  <thead>\n",
       "    <tr style=\"text-align: right;\">\n",
       "      <th></th>\n",
       "      <th>group</th>\n",
       "      <th>purchases</th>\n",
       "    </tr>\n",
       "  </thead>\n",
       "  <tbody>\n",
       "    <tr>\n",
       "      <th>0</th>\n",
       "      <td>GRP A</td>\n",
       "      <td>4.568172</td>\n",
       "    </tr>\n",
       "    <tr>\n",
       "      <th>1</th>\n",
       "      <td>GRP B</td>\n",
       "      <td>4.585393</td>\n",
       "    </tr>\n",
       "  </tbody>\n",
       "</table>\n",
       "</div>"
      ],
      "text/plain": [
       "   group  purchases\n",
       "0  GRP A   4.568172\n",
       "1  GRP B   4.585393"
      ]
     },
     "execution_count": 70,
     "metadata": {},
     "output_type": "execute_result"
    }
   ],
   "source": [
    "df1_group_purchase = df1[['purchases', 'group']].groupby('group').mean().reset_index()\n",
    "df1_group_purchase"
   ]
  },
  {
   "cell_type": "markdown",
   "id": "2baa6458",
   "metadata": {
    "heading_collapsed": true
   },
   "source": [
    "### Calculando a média de compras por dispositivo"
   ]
  },
  {
   "cell_type": "code",
   "execution_count": 72,
   "id": "d1abe616",
   "metadata": {
    "ExecuteTime": {
     "end_time": "2022-10-23T20:40:55.542366Z",
     "start_time": "2022-10-23T20:40:55.521941Z"
    },
    "hidden": true
   },
   "outputs": [
    {
     "data": {
      "text/html": [
       "<div>\n",
       "<style scoped>\n",
       "    .dataframe tbody tr th:only-of-type {\n",
       "        vertical-align: middle;\n",
       "    }\n",
       "\n",
       "    .dataframe tbody tr th {\n",
       "        vertical-align: top;\n",
       "    }\n",
       "\n",
       "    .dataframe thead th {\n",
       "        text-align: right;\n",
       "    }\n",
       "</style>\n",
       "<table border=\"1\" class=\"dataframe\">\n",
       "  <thead>\n",
       "    <tr style=\"text-align: right;\">\n",
       "      <th></th>\n",
       "      <th>device</th>\n",
       "      <th>purchases</th>\n",
       "    </tr>\n",
       "  </thead>\n",
       "  <tbody>\n",
       "    <tr>\n",
       "      <th>0</th>\n",
       "      <td>A</td>\n",
       "      <td>4.554096</td>\n",
       "    </tr>\n",
       "    <tr>\n",
       "      <th>1</th>\n",
       "      <td>I</td>\n",
       "      <td>4.599292</td>\n",
       "    </tr>\n",
       "  </tbody>\n",
       "</table>\n",
       "</div>"
      ],
      "text/plain": [
       "  device  purchases\n",
       "0      A   4.554096\n",
       "1      I   4.599292"
      ]
     },
     "execution_count": 72,
     "metadata": {},
     "output_type": "execute_result"
    }
   ],
   "source": [
    "df1_device_purchase = df1[['purchases', 'device']].groupby('device').mean().reset_index()\n",
    "df1_device_purchase"
   ]
  },
  {
   "cell_type": "markdown",
   "id": "35dad9a1",
   "metadata": {
    "heading_collapsed": true
   },
   "source": [
    "### Calculando a estatística descritiva das variáveis numéricas"
   ]
  },
  {
   "cell_type": "code",
   "execution_count": 55,
   "id": "65248709",
   "metadata": {
    "ExecuteTime": {
     "end_time": "2022-10-23T18:26:11.959922Z",
     "start_time": "2022-10-23T18:26:11.934459Z"
    },
    "hidden": true
   },
   "outputs": [
    {
     "data": {
      "text/html": [
       "<div>\n",
       "<style scoped>\n",
       "    .dataframe tbody tr th:only-of-type {\n",
       "        vertical-align: middle;\n",
       "    }\n",
       "\n",
       "    .dataframe tbody tr th {\n",
       "        vertical-align: top;\n",
       "    }\n",
       "\n",
       "    .dataframe thead tr th {\n",
       "        text-align: left;\n",
       "    }\n",
       "\n",
       "    .dataframe thead tr:last-of-type th {\n",
       "        text-align: right;\n",
       "    }\n",
       "</style>\n",
       "<table border=\"1\" class=\"dataframe\">\n",
       "  <thead>\n",
       "    <tr>\n",
       "      <th></th>\n",
       "      <th>country</th>\n",
       "      <th colspan=\"4\" halign=\"left\">spent</th>\n",
       "      <th colspan=\"4\" halign=\"left\">purchases</th>\n",
       "    </tr>\n",
       "    <tr>\n",
       "      <th></th>\n",
       "      <th>count</th>\n",
       "      <th>mean</th>\n",
       "      <th>max</th>\n",
       "      <th>min</th>\n",
       "      <th>std</th>\n",
       "      <th>mean</th>\n",
       "      <th>max</th>\n",
       "      <th>min</th>\n",
       "      <th>std</th>\n",
       "    </tr>\n",
       "    <tr>\n",
       "      <th>group</th>\n",
       "      <th></th>\n",
       "      <th></th>\n",
       "      <th></th>\n",
       "      <th></th>\n",
       "      <th></th>\n",
       "      <th></th>\n",
       "      <th></th>\n",
       "      <th></th>\n",
       "      <th></th>\n",
       "    </tr>\n",
       "  </thead>\n",
       "  <tbody>\n",
       "    <tr>\n",
       "      <th>GRP A</th>\n",
       "      <td>4518</td>\n",
       "      <td>1899.792165</td>\n",
       "      <td>10480</td>\n",
       "      <td>99</td>\n",
       "      <td>1413.074052</td>\n",
       "      <td>4.568172</td>\n",
       "      <td>24</td>\n",
       "      <td>1</td>\n",
       "      <td>3.170057</td>\n",
       "    </tr>\n",
       "    <tr>\n",
       "      <th>GRP B</th>\n",
       "      <td>4491</td>\n",
       "      <td>1905.946782</td>\n",
       "      <td>10478</td>\n",
       "      <td>99</td>\n",
       "      <td>1384.617019</td>\n",
       "      <td>4.585393</td>\n",
       "      <td>23</td>\n",
       "      <td>1</td>\n",
       "      <td>3.132202</td>\n",
       "    </tr>\n",
       "  </tbody>\n",
       "</table>\n",
       "</div>"
      ],
      "text/plain": [
       "      country        spent                         purchases                  \n",
       "        count         mean    max min          std      mean max min       std\n",
       "group                                                                         \n",
       "GRP A    4518  1899.792165  10480  99  1413.074052  4.568172  24   1  3.170057\n",
       "GRP B    4491  1905.946782  10478  99  1384.617019  4.585393  23   1  3.132202"
      ]
     },
     "execution_count": 55,
     "metadata": {},
     "output_type": "execute_result"
    }
   ],
   "source": [
    "df1.groupby('group').agg({'country': 'count',\n",
    "                     'spent': ['mean', 'max', 'min','std'],\n",
    "                     'purchases': ['mean', 'max','min','std']})"
   ]
  },
  {
   "cell_type": "markdown",
   "id": "47e3a9b1",
   "metadata": {},
   "source": [
    "### Histograma das distribuições"
   ]
  },
  {
   "cell_type": "code",
   "execution_count": 56,
   "id": "43c19c15",
   "metadata": {
    "ExecuteTime": {
     "end_time": "2022-10-23T18:26:21.416895Z",
     "start_time": "2022-10-23T18:26:21.134959Z"
    }
   },
   "outputs": [
    {
     "data": {
      "image/png": "[encoded data removed]",
      "text/plain": [
       "<Figure size 640x480 with 1 Axes>"
      ]
     },
     "metadata": {},
     "output_type": "display_data"
    }
   ],
   "source": [
    "df1.loc[df1['group'] == 'GRP A', 'purchases'].hist(bins = 20);\n",
    "df1.loc[df1['group'] == 'GRP B', 'purchases'].hist(bins = 20);"
   ]
  },
  {
   "cell_type": "markdown",
   "id": "65b800eb",
   "metadata": {},
   "source": [
    "## Amostrando"
   ]
  },
  {
   "cell_type": "markdown",
   "id": "321f21b1",
   "metadata": {},
   "source": [
    "- Agora que o dataframe está ok e limpo, nós podemos prosseguir e amostrar 3395 amostras para cada grupo. Nós podemos usar o método pandas DataFrame.sample() para fazer isso, o qual irá realizar um Sample Random Sampling pra nós"
   ]
  },
  {
   "cell_type": "code",
   "execution_count": 57,
   "id": "73b6cfa2",
   "metadata": {
    "ExecuteTime": {
     "end_time": "2022-10-23T18:26:34.830712Z",
     "start_time": "2022-10-23T18:26:34.807030Z"
    }
   },
   "outputs": [],
   "source": [
    "# Amostrando \n",
    "grpa_sample = df1[df1['group'] == 'GRP A'].sample( n=required_n, random_state = 22)\n",
    "grpb_sample = df1[df1['group'] == 'GRP B'].sample( n=required_n, random_state = 22)"
   ]
  },
  {
   "cell_type": "code",
   "execution_count": 58,
   "id": "be152fc7",
   "metadata": {
    "ExecuteTime": {
     "end_time": "2022-10-23T18:26:39.143767Z",
     "start_time": "2022-10-23T18:26:39.135597Z"
    }
   },
   "outputs": [],
   "source": [
    "#Montando um dataframe apenas com o grpa_sample e o grpb_sample\n",
    "\n",
    "ab_test = pd.concat([grpa_sample, grpb_sample], axis=0)\n",
    "ab_test.reset_index(drop=True, inplace=True)"
   ]
  },
  {
   "cell_type": "code",
   "execution_count": 59,
   "id": "17f63b8f",
   "metadata": {
    "ExecuteTime": {
     "end_time": "2022-10-23T18:26:40.751522Z",
     "start_time": "2022-10-23T18:26:40.730077Z"
    }
   },
   "outputs": [
    {
     "name": "stdout",
     "output_type": "stream",
     "text": [
      "<class 'pandas.core.frame.DataFrame'>\n",
      "RangeIndex: 5956 entries, 0 to 5955\n",
      "Data columns (total 8 columns):\n",
      " #   Column     Non-Null Count  Dtype \n",
      "---  ------     --------------  ----- \n",
      " 0   uid        5956 non-null   int64 \n",
      " 1   country    5956 non-null   object\n",
      " 2   gender     5956 non-null   object\n",
      " 3   spent      5956 non-null   int64 \n",
      " 4   purchases  5956 non-null   int64 \n",
      " 5   date       5956 non-null   object\n",
      " 6   group      5956 non-null   object\n",
      " 7   device     5956 non-null   object\n",
      "dtypes: int64(3), object(5)\n",
      "memory usage: 372.4+ KB\n"
     ]
    }
   ],
   "source": [
    "ab_test.info()"
   ]
  },
  {
   "cell_type": "code",
   "execution_count": 60,
   "id": "be725f44",
   "metadata": {
    "ExecuteTime": {
     "end_time": "2022-10-23T18:27:01.006283Z",
     "start_time": "2022-10-23T18:27:00.986539Z"
    }
   },
   "outputs": [
    {
     "data": {
      "text/html": [
       "<div>\n",
       "<style scoped>\n",
       "    .dataframe tbody tr th:only-of-type {\n",
       "        vertical-align: middle;\n",
       "    }\n",
       "\n",
       "    .dataframe tbody tr th {\n",
       "        vertical-align: top;\n",
       "    }\n",
       "\n",
       "    .dataframe thead th {\n",
       "        text-align: right;\n",
       "    }\n",
       "</style>\n",
       "<table border=\"1\" class=\"dataframe\">\n",
       "  <thead>\n",
       "    <tr style=\"text-align: right;\">\n",
       "      <th></th>\n",
       "      <th>uid</th>\n",
       "      <th>country</th>\n",
       "      <th>gender</th>\n",
       "      <th>spent</th>\n",
       "      <th>purchases</th>\n",
       "      <th>date</th>\n",
       "      <th>group</th>\n",
       "      <th>device</th>\n",
       "    </tr>\n",
       "  </thead>\n",
       "  <tbody>\n",
       "    <tr>\n",
       "      <th>0</th>\n",
       "      <td>17180592</td>\n",
       "      <td>BRA</td>\n",
       "      <td>M</td>\n",
       "      <td>797</td>\n",
       "      <td>3</td>\n",
       "      <td>2017-02-26</td>\n",
       "      <td>GRP A</td>\n",
       "      <td>I</td>\n",
       "    </tr>\n",
       "    <tr>\n",
       "      <th>1</th>\n",
       "      <td>15031993</td>\n",
       "      <td>BRA</td>\n",
       "      <td>F</td>\n",
       "      <td>2893</td>\n",
       "      <td>7</td>\n",
       "      <td>2017-09-18</td>\n",
       "      <td>GRP A</td>\n",
       "      <td>I</td>\n",
       "    </tr>\n",
       "    <tr>\n",
       "      <th>2</th>\n",
       "      <td>15317218</td>\n",
       "      <td>BRA</td>\n",
       "      <td>M</td>\n",
       "      <td>499</td>\n",
       "      <td>1</td>\n",
       "      <td>2017-03-28</td>\n",
       "      <td>GRP A</td>\n",
       "      <td>A</td>\n",
       "    </tr>\n",
       "    <tr>\n",
       "      <th>3</th>\n",
       "      <td>53416953</td>\n",
       "      <td>BRA</td>\n",
       "      <td>M</td>\n",
       "      <td>2994</td>\n",
       "      <td>6</td>\n",
       "      <td>2017-02-21</td>\n",
       "      <td>GRP A</td>\n",
       "      <td>A</td>\n",
       "    </tr>\n",
       "    <tr>\n",
       "      <th>4</th>\n",
       "      <td>35003849</td>\n",
       "      <td>BRA</td>\n",
       "      <td>F</td>\n",
       "      <td>698</td>\n",
       "      <td>2</td>\n",
       "      <td>2017-12-14</td>\n",
       "      <td>GRP A</td>\n",
       "      <td>A</td>\n",
       "    </tr>\n",
       "  </tbody>\n",
       "</table>\n",
       "</div>"
      ],
      "text/plain": [
       "        uid country gender  spent  purchases        date  group device\n",
       "0  17180592     BRA      M    797          3  2017-02-26  GRP A      I\n",
       "1  15031993     BRA      F   2893          7  2017-09-18  GRP A      I\n",
       "2  15317218     BRA      M    499          1  2017-03-28  GRP A      A\n",
       "3  53416953     BRA      M   2994          6  2017-02-21  GRP A      A\n",
       "4  35003849     BRA      F    698          2  2017-12-14  GRP A      A"
      ]
     },
     "execution_count": 60,
     "metadata": {},
     "output_type": "execute_result"
    }
   ],
   "source": [
    "ab_test.head()"
   ]
  },
  {
   "cell_type": "code",
   "execution_count": null,
   "id": "5991e89b",
   "metadata": {
    "ExecuteTime": {
     "end_time": "2022-10-09T23:15:55.829016Z",
     "start_time": "2022-10-09T23:15:55.823897Z"
    }
   },
   "outputs": [],
   "source": [
    "# Ótimo! Tudo saiu como planejado, agora estamos prontos para analisar nossos resultados!"
   ]
  },
  {
   "cell_type": "markdown",
   "id": "44f7c9a3",
   "metadata": {},
   "source": [
    "## Plotando o resultado"
   ]
  },
  {
   "cell_type": "code",
   "execution_count": 64,
   "id": "fe1b7001",
   "metadata": {
    "ExecuteTime": {
     "end_time": "2022-10-23T18:28:45.279676Z",
     "start_time": "2022-10-23T18:28:44.955632Z"
    }
   },
   "outputs": [
    {
     "data": {
      "image/png": "[encoded data removed]",
      "text/plain": [
       "<Figure size 500x300 with 1 Axes>"
      ]
     },
     "metadata": {},
     "output_type": "display_data"
    }
   ],
   "source": [
    "plt.figure(figsize=(5,3))\n",
    "sns.barplot(x=ab_test['group'], y=ab_test['purchases'], errorbar=('ci', False))\n",
    "\n",
    "plt.ylim(0, 6)\n",
    "plt.title('Purchases by group', pad=20)\n",
    "plt.xlabel('Group', labelpad=15)\n",
    "plt.ylabel('Purchases', labelpad=15);"
   ]
  },
  {
   "cell_type": "markdown",
   "id": "aa32e8d4",
   "metadata": {},
   "source": [
    "- As compras para nossos grupos são mesmo muito próximas. \n",
    "\n",
    "- Mas...o valor do grupo B é ligeiramente maior. Esta diferença é estatísticamente significante?"
   ]
  },
  {
   "cell_type": "markdown",
   "id": "7619c4dc",
   "metadata": {},
   "source": [
    "# Teste de hipótese - t-Test (Comparação de médias)"
   ]
  },
  {
   "cell_type": "code",
   "execution_count": 65,
   "id": "070b9a46",
   "metadata": {
    "ExecuteTime": {
     "end_time": "2022-10-23T18:29:47.332271Z",
     "start_time": "2022-10-23T18:29:47.320463Z"
    }
   },
   "outputs": [
    {
     "name": "stdout",
     "output_type": "stream",
     "text": [
      "p-value: 0.6722435820613606\n"
     ]
    }
   ],
   "source": [
    "t_test, p_value = stats.ttest_ind(grpa_sample['purchases'], grpb_sample['purchases'])\n",
    "print(f'p-value: {p_value}')"
   ]
  },
  {
   "cell_type": "markdown",
   "id": "13d6bc3c",
   "metadata": {
    "heading_collapsed": true
   },
   "source": [
    "# Conclusão"
   ]
  },
  {
   "cell_type": "code",
   "execution_count": 68,
   "id": "cab51af5",
   "metadata": {
    "ExecuteTime": {
     "end_time": "2022-10-23T18:38:31.859388Z",
     "start_time": "2022-10-23T18:38:31.852670Z"
    },
    "hidden": true
   },
   "outputs": [
    {
     "name": "stdout",
     "output_type": "stream",
     "text": [
      "Aceita a Ho e assume que não há diferença estatísticamente significante entre o número de compras de cada grupo no dataset \"Brasil\"\n"
     ]
    }
   ],
   "source": [
    "if p_value < 0.05:\n",
    "    print('Rejeita a Ho de que o número de compras dos dois grupos é igual')\n",
    "else:\n",
    "    print('Aceita a Ho e assume que não há diferença estatísticamente significante entre o número de compras de cada grupo no dataset \"Brasil\"')"
   ]
  },
  {
   "cell_type": "code",
   "execution_count": null,
   "id": "ade0e135",
   "metadata": {
    "hidden": true
   },
   "outputs": [],
   "source": []
  }
 ],
 "metadata": {
  "kernelspec": {
   "display_name": "Python 3 (ipykernel)",
   "language": "python",
   "name": "python3"
  },
  "language_info": {
   "codemirror_mode": {
    "name": "ipython",
    "version": 3
   },
   "file_extension": ".py",
   "mimetype": "text/x-python",
   "name": "python",
   "nbconvert_exporter": "python",
   "pygments_lexer": "ipython3",
   "version": "3.10.0"
  },
  "toc": {
   "base_numbering": 1,
   "nav_menu": {},
   "number_sections": true,
   "sideBar": true,
   "skip_h1_title": false,
   "title_cell": "Table of Contents",
   "title_sidebar": "Contents",
   "toc_cell": false,
   "toc_position": {},
   "toc_section_display": true,
   "toc_window_display": false
  },
  "varInspector": {
   "cols": {
    "lenName": 16,
    "lenType": 16,
    "lenVar": 40
   },
   "kernels_config": {
    "python": {
     "delete_cmd_postfix": "",
     "delete_cmd_prefix": "del ",
     "library": "var_list.py",
     "varRefreshCmd": "print(var_dic_list())"
    },
    "r": {
     "delete_cmd_postfix": ") ",
     "delete_cmd_prefix": "rm(",
     "library": "var_list.r",
     "varRefreshCmd": "cat(var_dic_list()) "
    }
   },
   "types_to_exclude": [
    "module",
    "function",
    "builtin_function_or_method",
    "instance",
    "_Feature"
   ],
   "window_display": false
  }
 },
 "nbformat": 4,
 "nbformat_minor": 5
}
